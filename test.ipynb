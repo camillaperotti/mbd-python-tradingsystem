{
 "cells": [
  {
   "cell_type": "code",
   "execution_count": 1,
   "metadata": {},
   "outputs": [],
   "source": [
    "from APInews import NewsAPI\n",
    "\n",
    "na = NewsAPI('9e47d5c4e7374f29a69f83554ed9c6b9')"
   ]
  },
  {
   "cell_type": "code",
   "execution_count": 4,
   "metadata": {},
   "outputs": [
    {
     "name": "stderr",
     "output_type": "stream",
     "text": [
      "2025-03-12 12:05:10,066 - INFO - Fetching news for Tesla from 2025-03-11.\n"
     ]
    },
    {
     "data": {
      "text/html": [
       "<div>\n",
       "<style scoped>\n",
       "    .dataframe tbody tr th:only-of-type {\n",
       "        vertical-align: middle;\n",
       "    }\n",
       "\n",
       "    .dataframe tbody tr th {\n",
       "        vertical-align: top;\n",
       "    }\n",
       "\n",
       "    .dataframe thead th {\n",
       "        text-align: right;\n",
       "    }\n",
       "</style>\n",
       "<table border=\"1\" class=\"dataframe\">\n",
       "  <thead>\n",
       "    <tr style=\"text-align: right;\">\n",
       "      <th></th>\n",
       "      <th>author</th>\n",
       "      <th>title</th>\n",
       "      <th>description</th>\n",
       "      <th>url</th>\n",
       "      <th>urlToImage</th>\n",
       "      <th>publishedAt</th>\n",
       "      <th>content</th>\n",
       "      <th>id</th>\n",
       "      <th>name</th>\n",
       "    </tr>\n",
       "  </thead>\n",
       "  <tbody>\n",
       "    <tr>\n",
       "      <th>0</th>\n",
       "      <td>aaltchek@insider.com (Ana Altchek)</td>\n",
       "      <td>It's crunch time for Tesla</td>\n",
       "      <td>Tesla's lower-cost vehicle is supposed to begi...</td>\n",
       "      <td>https://www.businessinsider.com/tesla-low-cost...</td>\n",
       "      <td>https://i.insider.com/67cf5fc7b8b41a9673fa3983...</td>\n",
       "      <td>2025-03-11T09:00:02Z</td>\n",
       "      <td>Time is ticking for Tesla's promised lower-cos...</td>\n",
       "      <td>business-insider</td>\n",
       "      <td>Business Insider</td>\n",
       "    </tr>\n",
       "    <tr>\n",
       "      <th>1</th>\n",
       "      <td>CHRIS MEGERIAN / AP</td>\n",
       "      <td>Elon Musk Targets Social Security and Benefits...</td>\n",
       "      <td>Musk, the tech billionaire advising Trump, sug...</td>\n",
       "      <td>https://time.com/7266743/elon-musk-social-secu...</td>\n",
       "      <td>https://api.time.com/wp-content/uploads/2025/0...</td>\n",
       "      <td>2025-03-11T02:30:00Z</td>\n",
       "      <td>WASHINGTON Elon Musk pushed debunked theories ...</td>\n",
       "      <td>time</td>\n",
       "      <td>Time</td>\n",
       "    </tr>\n",
       "  </tbody>\n",
       "</table>\n",
       "</div>"
      ],
      "text/plain": [
       "                               author  ...              name\n",
       "0  aaltchek@insider.com (Ana Altchek)  ...  Business Insider\n",
       "1                 CHRIS MEGERIAN / AP  ...              Time\n",
       "\n",
       "[2 rows x 9 columns]"
      ]
     },
     "execution_count": 4,
     "metadata": {},
     "output_type": "execute_result"
    }
   ],
   "source": [
    "#AAPL = Apple\n",
    "#ABT = Abbott\n",
    "#BRKR = Bruker\n",
    "#MSFT = Microsoft\n",
    "#TSLA = Tesla\n",
    "\n",
    "na.get_news('Tesla', '2025-03-11')"
   ]
  }
 ],
 "metadata": {
  "kernelspec": {
   "display_name": "base",
   "language": "python",
   "name": "python3"
  },
  "language_info": {
   "codemirror_mode": {
    "name": "ipython",
    "version": 3
   },
   "file_extension": ".py",
   "mimetype": "text/x-python",
   "name": "python",
   "nbconvert_exporter": "python",
   "pygments_lexer": "ipython3",
   "version": "3.12.4"
  }
 },
 "nbformat": 4,
 "nbformat_minor": 2
}
