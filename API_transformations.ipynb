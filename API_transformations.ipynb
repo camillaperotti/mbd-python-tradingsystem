{
 "cells": [
  {
   "cell_type": "code",
   "execution_count": 2,
   "metadata": {},
   "outputs": [],
   "source": [
    "from API import PySimFin\n"
   ]
  },
  {
   "cell_type": "code",
   "execution_count": null,
   "metadata": {},
   "outputs": [],
   "source": [
    "import pandas as pd"
   ]
  },
  {
   "cell_type": "code",
   "execution_count": 3,
   "metadata": {},
   "outputs": [],
   "source": [
    "simfin = PySimFin(\"33cd76b1-b978-4165-8b91-5696ddea452a\")"
   ]
  },
  {
   "cell_type": "code",
   "execution_count": null,
   "metadata": {},
   "outputs": [],
   "source": [
    "from datetime import datetime, timedelta"
   ]
  },
  {
   "cell_type": "code",
   "execution_count": null,
   "metadata": {},
   "outputs": [
    {
     "data": {
      "text/plain": [
       "'2025-03-11'"
      ]
     },
     "metadata": {},
     "output_type": "display_data"
    }
   ],
   "source": [
    "yesterday = (datetime.today()-timedelta(days=1)).strftime(\"%Y-%m-%d\")\n",
    "yesterday"
   ]
  },
  {
   "cell_type": "code",
   "execution_count": null,
   "metadata": {},
   "outputs": [
    {
     "name": "stderr",
     "output_type": "stream",
     "text": [
      "2025-03-12 09:50:13,435 - INFO - Fetching share prices for AAPL from 2025-03-01 to 2025-03-11.\n"
     ]
    }
   ],
   "source": [
    "#if we want to predict tomorrow's price, we need to pull at least 5 stock days, so that last row has all previous day values\n",
    "AAPL = simfin.get_share_prices(\"AAPL\", \"2025-03-01\", \"2025-03-11\")"
   ]
  },
  {
   "cell_type": "code",
   "execution_count": null,
   "metadata": {},
   "outputs": [
    {
     "data": {
      "text/html": [
       "<div>\n",
       "<style scoped>\n",
       "    .dataframe tbody tr th:only-of-type {\n",
       "        vertical-align: middle;\n",
       "    }\n",
       "\n",
       "    .dataframe tbody tr th {\n",
       "        vertical-align: top;\n",
       "    }\n",
       "\n",
       "    .dataframe thead th {\n",
       "        text-align: right;\n",
       "    }\n",
       "</style>\n",
       "<table border=\"1\" class=\"dataframe\">\n",
       "  <thead>\n",
       "    <tr style=\"text-align: right;\">\n",
       "      <th></th>\n",
       "      <th>name</th>\n",
       "      <th>id</th>\n",
       "      <th>ticker</th>\n",
       "      <th>currency</th>\n",
       "      <th>isin</th>\n",
       "      <th>Date</th>\n",
       "      <th>Dividend Paid</th>\n",
       "      <th>Common Shares Outstanding</th>\n",
       "      <th>Last Closing Price</th>\n",
       "      <th>Adjusted Closing Price</th>\n",
       "      <th>Highest Price</th>\n",
       "      <th>Lowest Price</th>\n",
       "      <th>Opening Price</th>\n",
       "      <th>Trading Volume</th>\n",
       "    </tr>\n",
       "  </thead>\n",
       "  <tbody>\n",
       "    <tr>\n",
       "      <th>0</th>\n",
       "      <td>APPLE INC</td>\n",
       "      <td>111052</td>\n",
       "      <td>AAPL</td>\n",
       "      <td>USD</td>\n",
       "      <td>US0378331005</td>\n",
       "      <td>2025-03-03</td>\n",
       "      <td>None</td>\n",
       "      <td>15022073000</td>\n",
       "      <td>238.03</td>\n",
       "      <td>238.03</td>\n",
       "      <td>244.03</td>\n",
       "      <td>236.11</td>\n",
       "      <td>241.79</td>\n",
       "      <td>46873613</td>\n",
       "    </tr>\n",
       "    <tr>\n",
       "      <th>0</th>\n",
       "      <td>APPLE INC</td>\n",
       "      <td>111052</td>\n",
       "      <td>AAPL</td>\n",
       "      <td>USD</td>\n",
       "      <td>US0378331005</td>\n",
       "      <td>2025-03-04</td>\n",
       "      <td>None</td>\n",
       "      <td>15022073000</td>\n",
       "      <td>235.93</td>\n",
       "      <td>235.93</td>\n",
       "      <td>240.07</td>\n",
       "      <td>234.68</td>\n",
       "      <td>237.71</td>\n",
       "      <td>53009183</td>\n",
       "    </tr>\n",
       "    <tr>\n",
       "      <th>0</th>\n",
       "      <td>APPLE INC</td>\n",
       "      <td>111052</td>\n",
       "      <td>AAPL</td>\n",
       "      <td>USD</td>\n",
       "      <td>US0378331005</td>\n",
       "      <td>2025-03-05</td>\n",
       "      <td>None</td>\n",
       "      <td>15022073000</td>\n",
       "      <td>235.74</td>\n",
       "      <td>235.74</td>\n",
       "      <td>236.55</td>\n",
       "      <td>229.23</td>\n",
       "      <td>235.42</td>\n",
       "      <td>46987098</td>\n",
       "    </tr>\n",
       "    <tr>\n",
       "      <th>0</th>\n",
       "      <td>APPLE INC</td>\n",
       "      <td>111052</td>\n",
       "      <td>AAPL</td>\n",
       "      <td>USD</td>\n",
       "      <td>US0378331005</td>\n",
       "      <td>2025-03-06</td>\n",
       "      <td>None</td>\n",
       "      <td>15022073000</td>\n",
       "      <td>235.33</td>\n",
       "      <td>235.33</td>\n",
       "      <td>237.86</td>\n",
       "      <td>233.16</td>\n",
       "      <td>234.44</td>\n",
       "      <td>44856248</td>\n",
       "    </tr>\n",
       "    <tr>\n",
       "      <th>0</th>\n",
       "      <td>APPLE INC</td>\n",
       "      <td>111052</td>\n",
       "      <td>AAPL</td>\n",
       "      <td>USD</td>\n",
       "      <td>US0378331005</td>\n",
       "      <td>2025-03-07</td>\n",
       "      <td>None</td>\n",
       "      <td>15022073000</td>\n",
       "      <td>239.07</td>\n",
       "      <td>239.07</td>\n",
       "      <td>241.37</td>\n",
       "      <td>234.76</td>\n",
       "      <td>235.10</td>\n",
       "      <td>45602641</td>\n",
       "    </tr>\n",
       "    <tr>\n",
       "      <th>0</th>\n",
       "      <td>APPLE INC</td>\n",
       "      <td>111052</td>\n",
       "      <td>AAPL</td>\n",
       "      <td>USD</td>\n",
       "      <td>US0378331005</td>\n",
       "      <td>2025-03-10</td>\n",
       "      <td>None</td>\n",
       "      <td>15022073000</td>\n",
       "      <td>227.48</td>\n",
       "      <td>227.48</td>\n",
       "      <td>236.16</td>\n",
       "      <td>224.22</td>\n",
       "      <td>235.54</td>\n",
       "      <td>71451281</td>\n",
       "    </tr>\n",
       "    <tr>\n",
       "      <th>0</th>\n",
       "      <td>APPLE INC</td>\n",
       "      <td>111052</td>\n",
       "      <td>AAPL</td>\n",
       "      <td>USD</td>\n",
       "      <td>US0378331005</td>\n",
       "      <td>2025-03-11</td>\n",
       "      <td>None</td>\n",
       "      <td>15022073000</td>\n",
       "      <td>220.84</td>\n",
       "      <td>220.84</td>\n",
       "      <td>225.84</td>\n",
       "      <td>217.45</td>\n",
       "      <td>223.81</td>\n",
       "      <td>73971209</td>\n",
       "    </tr>\n",
       "  </tbody>\n",
       "</table>\n",
       "</div>"
      ],
      "text/plain": [
       "        name      id ticker currency          isin        Date Dividend Paid  \\\n",
       "0  APPLE INC  111052   AAPL      USD  US0378331005  2025-03-03          None   \n",
       "0  APPLE INC  111052   AAPL      USD  US0378331005  2025-03-04          None   \n",
       "0  APPLE INC  111052   AAPL      USD  US0378331005  2025-03-05          None   \n",
       "0  APPLE INC  111052   AAPL      USD  US0378331005  2025-03-06          None   \n",
       "0  APPLE INC  111052   AAPL      USD  US0378331005  2025-03-07          None   \n",
       "0  APPLE INC  111052   AAPL      USD  US0378331005  2025-03-10          None   \n",
       "0  APPLE INC  111052   AAPL      USD  US0378331005  2025-03-11          None   \n",
       "\n",
       "   Common Shares Outstanding  Last Closing Price  Adjusted Closing Price  \\\n",
       "0                15022073000              238.03                  238.03   \n",
       "0                15022073000              235.93                  235.93   \n",
       "0                15022073000              235.74                  235.74   \n",
       "0                15022073000              235.33                  235.33   \n",
       "0                15022073000              239.07                  239.07   \n",
       "0                15022073000              227.48                  227.48   \n",
       "0                15022073000              220.84                  220.84   \n",
       "\n",
       "   Highest Price  Lowest Price  Opening Price  Trading Volume  \n",
       "0         244.03        236.11         241.79        46873613  \n",
       "0         240.07        234.68         237.71        53009183  \n",
       "0         236.55        229.23         235.42        46987098  \n",
       "0         237.86        233.16         234.44        44856248  \n",
       "0         241.37        234.76         235.10        45602641  \n",
       "0         236.16        224.22         235.54        71451281  \n",
       "0         225.84        217.45         223.81        73971209  "
      ]
     },
     "metadata": {},
     "output_type": "display_data"
    }
   ],
   "source": [
    "AAPL"
   ]
  },
  {
   "cell_type": "code",
   "execution_count": null,
   "metadata": {},
   "outputs": [
    {
     "data": {
      "text/html": [
       "<div>\n",
       "<style scoped>\n",
       "    .dataframe tbody tr th:only-of-type {\n",
       "        vertical-align: middle;\n",
       "    }\n",
       "\n",
       "    .dataframe tbody tr th {\n",
       "        vertical-align: top;\n",
       "    }\n",
       "\n",
       "    .dataframe thead th {\n",
       "        text-align: right;\n",
       "    }\n",
       "</style>\n",
       "<table border=\"1\" class=\"dataframe\">\n",
       "  <thead>\n",
       "    <tr style=\"text-align: right;\">\n",
       "      <th></th>\n",
       "      <th>ticker</th>\n",
       "      <th>Date</th>\n",
       "      <th>Adjusted Closing Price</th>\n",
       "    </tr>\n",
       "  </thead>\n",
       "  <tbody>\n",
       "    <tr>\n",
       "      <th>0</th>\n",
       "      <td>AAPL</td>\n",
       "      <td>2025-03-03</td>\n",
       "      <td>238.03</td>\n",
       "    </tr>\n",
       "    <tr>\n",
       "      <th>0</th>\n",
       "      <td>AAPL</td>\n",
       "      <td>2025-03-04</td>\n",
       "      <td>235.93</td>\n",
       "    </tr>\n",
       "    <tr>\n",
       "      <th>0</th>\n",
       "      <td>AAPL</td>\n",
       "      <td>2025-03-05</td>\n",
       "      <td>235.74</td>\n",
       "    </tr>\n",
       "    <tr>\n",
       "      <th>0</th>\n",
       "      <td>AAPL</td>\n",
       "      <td>2025-03-06</td>\n",
       "      <td>235.33</td>\n",
       "    </tr>\n",
       "    <tr>\n",
       "      <th>0</th>\n",
       "      <td>AAPL</td>\n",
       "      <td>2025-03-07</td>\n",
       "      <td>239.07</td>\n",
       "    </tr>\n",
       "    <tr>\n",
       "      <th>0</th>\n",
       "      <td>AAPL</td>\n",
       "      <td>2025-03-10</td>\n",
       "      <td>227.48</td>\n",
       "    </tr>\n",
       "    <tr>\n",
       "      <th>0</th>\n",
       "      <td>AAPL</td>\n",
       "      <td>2025-03-11</td>\n",
       "      <td>220.84</td>\n",
       "    </tr>\n",
       "  </tbody>\n",
       "</table>\n",
       "</div>"
      ],
      "text/plain": [
       "  ticker        Date  Adjusted Closing Price\n",
       "0   AAPL  2025-03-03                  238.03\n",
       "0   AAPL  2025-03-04                  235.93\n",
       "0   AAPL  2025-03-05                  235.74\n",
       "0   AAPL  2025-03-06                  235.33\n",
       "0   AAPL  2025-03-07                  239.07\n",
       "0   AAPL  2025-03-10                  227.48\n",
       "0   AAPL  2025-03-11                  220.84"
      ]
     },
     "metadata": {},
     "output_type": "display_data"
    }
   ],
   "source": [
    "# drop irrelevant columns\n",
    "\n",
    "AAPL = AAPL[[\"ticker\",\"Date\",\"Adjusted Closing Price\"]]\n",
    "AAPL"
   ]
  },
  {
   "cell_type": "code",
   "execution_count": null,
   "metadata": {},
   "outputs": [],
   "source": [
    "# do some data cleaning \n",
    "\n",
    "AAPL[\"Date\"] = pd.to_datetime(AAPL[\"Date\"], format=\"%Y-%m-%d\")\n",
    "AAPL.rename(columns={\"Adjusted Closing Price\": \"Price\"}, inplace=True)\n",
    "AAPL.rename(columns={\"ticker\": \"Ticker\"}, inplace=True)\n"
   ]
  },
  {
   "cell_type": "code",
   "execution_count": null,
   "metadata": {},
   "outputs": [
    {
     "data": {
      "text/html": [
       "<div>\n",
       "<style scoped>\n",
       "    .dataframe tbody tr th:only-of-type {\n",
       "        vertical-align: middle;\n",
       "    }\n",
       "\n",
       "    .dataframe tbody tr th {\n",
       "        vertical-align: top;\n",
       "    }\n",
       "\n",
       "    .dataframe thead th {\n",
       "        text-align: right;\n",
       "    }\n",
       "</style>\n",
       "<table border=\"1\" class=\"dataframe\">\n",
       "  <thead>\n",
       "    <tr style=\"text-align: right;\">\n",
       "      <th></th>\n",
       "      <th>Ticker</th>\n",
       "      <th>Date</th>\n",
       "      <th>Price</th>\n",
       "    </tr>\n",
       "  </thead>\n",
       "  <tbody>\n",
       "    <tr>\n",
       "      <th>0</th>\n",
       "      <td>AAPL</td>\n",
       "      <td>2025-03-03</td>\n",
       "      <td>238.03</td>\n",
       "    </tr>\n",
       "    <tr>\n",
       "      <th>0</th>\n",
       "      <td>AAPL</td>\n",
       "      <td>2025-03-04</td>\n",
       "      <td>235.93</td>\n",
       "    </tr>\n",
       "    <tr>\n",
       "      <th>0</th>\n",
       "      <td>AAPL</td>\n",
       "      <td>2025-03-05</td>\n",
       "      <td>235.74</td>\n",
       "    </tr>\n",
       "    <tr>\n",
       "      <th>0</th>\n",
       "      <td>AAPL</td>\n",
       "      <td>2025-03-06</td>\n",
       "      <td>235.33</td>\n",
       "    </tr>\n",
       "    <tr>\n",
       "      <th>0</th>\n",
       "      <td>AAPL</td>\n",
       "      <td>2025-03-07</td>\n",
       "      <td>239.07</td>\n",
       "    </tr>\n",
       "  </tbody>\n",
       "</table>\n",
       "</div>"
      ],
      "text/plain": [
       "  Ticker       Date   Price\n",
       "0   AAPL 2025-03-03  238.03\n",
       "0   AAPL 2025-03-04  235.93\n",
       "0   AAPL 2025-03-05  235.74\n",
       "0   AAPL 2025-03-06  235.33\n",
       "0   AAPL 2025-03-07  239.07"
      ]
     },
     "metadata": {},
     "output_type": "display_data"
    }
   ],
   "source": [
    "AAPL.head()"
   ]
  },
  {
   "cell_type": "code",
   "execution_count": null,
   "metadata": {},
   "outputs": [],
   "source": [
    "# Add last 4 days' prices\n",
    "for day in range(1, 5):\n",
    "    AAPL[f\"Price d-{day}\"] = AAPL.groupby(\"Ticker\")[\"Price\"].shift(day)\n",
    "        "
   ]
  },
  {
   "cell_type": "code",
   "execution_count": null,
   "metadata": {},
   "outputs": [
    {
     "data": {
      "text/html": [
       "<div>\n",
       "<style scoped>\n",
       "    .dataframe tbody tr th:only-of-type {\n",
       "        vertical-align: middle;\n",
       "    }\n",
       "\n",
       "    .dataframe tbody tr th {\n",
       "        vertical-align: top;\n",
       "    }\n",
       "\n",
       "    .dataframe thead th {\n",
       "        text-align: right;\n",
       "    }\n",
       "</style>\n",
       "<table border=\"1\" class=\"dataframe\">\n",
       "  <thead>\n",
       "    <tr style=\"text-align: right;\">\n",
       "      <th></th>\n",
       "      <th>Ticker</th>\n",
       "      <th>Date</th>\n",
       "      <th>Price</th>\n",
       "      <th>Price d-1</th>\n",
       "      <th>Price d-2</th>\n",
       "      <th>Price d-3</th>\n",
       "      <th>Price d-4</th>\n",
       "    </tr>\n",
       "  </thead>\n",
       "  <tbody>\n",
       "    <tr>\n",
       "      <th>0</th>\n",
       "      <td>AAPL</td>\n",
       "      <td>2025-03-03</td>\n",
       "      <td>238.03</td>\n",
       "      <td>NaN</td>\n",
       "      <td>NaN</td>\n",
       "      <td>NaN</td>\n",
       "      <td>NaN</td>\n",
       "    </tr>\n",
       "    <tr>\n",
       "      <th>0</th>\n",
       "      <td>AAPL</td>\n",
       "      <td>2025-03-04</td>\n",
       "      <td>235.93</td>\n",
       "      <td>238.03</td>\n",
       "      <td>NaN</td>\n",
       "      <td>NaN</td>\n",
       "      <td>NaN</td>\n",
       "    </tr>\n",
       "    <tr>\n",
       "      <th>0</th>\n",
       "      <td>AAPL</td>\n",
       "      <td>2025-03-05</td>\n",
       "      <td>235.74</td>\n",
       "      <td>235.93</td>\n",
       "      <td>238.03</td>\n",
       "      <td>NaN</td>\n",
       "      <td>NaN</td>\n",
       "    </tr>\n",
       "    <tr>\n",
       "      <th>0</th>\n",
       "      <td>AAPL</td>\n",
       "      <td>2025-03-06</td>\n",
       "      <td>235.33</td>\n",
       "      <td>235.74</td>\n",
       "      <td>235.93</td>\n",
       "      <td>238.03</td>\n",
       "      <td>NaN</td>\n",
       "    </tr>\n",
       "    <tr>\n",
       "      <th>0</th>\n",
       "      <td>AAPL</td>\n",
       "      <td>2025-03-07</td>\n",
       "      <td>239.07</td>\n",
       "      <td>235.33</td>\n",
       "      <td>235.74</td>\n",
       "      <td>235.93</td>\n",
       "      <td>238.03</td>\n",
       "    </tr>\n",
       "    <tr>\n",
       "      <th>0</th>\n",
       "      <td>AAPL</td>\n",
       "      <td>2025-03-10</td>\n",
       "      <td>227.48</td>\n",
       "      <td>239.07</td>\n",
       "      <td>235.33</td>\n",
       "      <td>235.74</td>\n",
       "      <td>235.93</td>\n",
       "    </tr>\n",
       "    <tr>\n",
       "      <th>0</th>\n",
       "      <td>AAPL</td>\n",
       "      <td>2025-03-11</td>\n",
       "      <td>220.84</td>\n",
       "      <td>227.48</td>\n",
       "      <td>239.07</td>\n",
       "      <td>235.33</td>\n",
       "      <td>235.74</td>\n",
       "    </tr>\n",
       "  </tbody>\n",
       "</table>\n",
       "</div>"
      ],
      "text/plain": [
       "  Ticker       Date   Price  Price d-1  Price d-2  Price d-3  Price d-4\n",
       "0   AAPL 2025-03-03  238.03        NaN        NaN        NaN        NaN\n",
       "0   AAPL 2025-03-04  235.93     238.03        NaN        NaN        NaN\n",
       "0   AAPL 2025-03-05  235.74     235.93     238.03        NaN        NaN\n",
       "0   AAPL 2025-03-06  235.33     235.74     235.93     238.03        NaN\n",
       "0   AAPL 2025-03-07  239.07     235.33     235.74     235.93     238.03\n",
       "0   AAPL 2025-03-10  227.48     239.07     235.33     235.74     235.93\n",
       "0   AAPL 2025-03-11  220.84     227.48     239.07     235.33     235.74"
      ]
     },
     "metadata": {},
     "output_type": "display_data"
    }
   ],
   "source": [
    "AAPL"
   ]
  },
  {
   "cell_type": "code",
   "execution_count": null,
   "metadata": {},
   "outputs": [],
   "source": [
    "# Drop missing values\n",
    "AAPL = AAPL.dropna()\n",
    "        "
   ]
  },
  {
   "cell_type": "code",
   "execution_count": null,
   "metadata": {},
   "outputs": [],
   "source": [
    "# Drop \"Date\" and \"Ticker\"\n",
    "\n",
    "AAPL = AAPL.drop(columns=[\"Ticker\",\"Date\"])"
   ]
  },
  {
   "cell_type": "code",
   "execution_count": null,
   "metadata": {},
   "outputs": [
    {
     "data": {
      "text/html": [
       "<div>\n",
       "<style scoped>\n",
       "    .dataframe tbody tr th:only-of-type {\n",
       "        vertical-align: middle;\n",
       "    }\n",
       "\n",
       "    .dataframe tbody tr th {\n",
       "        vertical-align: top;\n",
       "    }\n",
       "\n",
       "    .dataframe thead th {\n",
       "        text-align: right;\n",
       "    }\n",
       "</style>\n",
       "<table border=\"1\" class=\"dataframe\">\n",
       "  <thead>\n",
       "    <tr style=\"text-align: right;\">\n",
       "      <th></th>\n",
       "      <th>Price</th>\n",
       "      <th>Price d-1</th>\n",
       "      <th>Price d-2</th>\n",
       "      <th>Price d-3</th>\n",
       "      <th>Price d-4</th>\n",
       "    </tr>\n",
       "  </thead>\n",
       "  <tbody>\n",
       "    <tr>\n",
       "      <th>0</th>\n",
       "      <td>239.07</td>\n",
       "      <td>235.33</td>\n",
       "      <td>235.74</td>\n",
       "      <td>235.93</td>\n",
       "      <td>238.03</td>\n",
       "    </tr>\n",
       "    <tr>\n",
       "      <th>0</th>\n",
       "      <td>227.48</td>\n",
       "      <td>239.07</td>\n",
       "      <td>235.33</td>\n",
       "      <td>235.74</td>\n",
       "      <td>235.93</td>\n",
       "    </tr>\n",
       "    <tr>\n",
       "      <th>0</th>\n",
       "      <td>220.84</td>\n",
       "      <td>227.48</td>\n",
       "      <td>239.07</td>\n",
       "      <td>235.33</td>\n",
       "      <td>235.74</td>\n",
       "    </tr>\n",
       "  </tbody>\n",
       "</table>\n",
       "</div>"
      ],
      "text/plain": [
       "    Price  Price d-1  Price d-2  Price d-3  Price d-4\n",
       "0  239.07     235.33     235.74     235.93     238.03\n",
       "0  227.48     239.07     235.33     235.74     235.93\n",
       "0  220.84     227.48     239.07     235.33     235.74"
      ]
     },
     "metadata": {},
     "output_type": "display_data"
    }
   ],
   "source": [
    "AAPL"
   ]
  },
  {
   "cell_type": "markdown",
   "metadata": {},
   "source": [
    "Load model:"
   ]
  },
  {
   "cell_type": "code",
   "execution_count": null,
   "metadata": {},
   "outputs": [],
   "source": [
    "import argparse\n",
    "import pandas as pd\n",
    "import numpy as np\n",
    "import joblib\n",
    "import os\n",
    "from sklearn.preprocessing import StandardScaler\n",
    "from sklearn.linear_model import LogisticRegression\n"
   ]
  },
  {
   "cell_type": "code",
   "execution_count": null,
   "metadata": {},
   "outputs": [],
   "source": [
    "#hardcoding this for AAPL\n",
    "model_path = \"Scripts/models/model_AAPL.pkl\"\n",
    "scaler_path = \"Scripts/models/scaler_AAPL.pkl\""
   ]
  },
  {
   "cell_type": "code",
   "execution_count": null,
   "metadata": {},
   "outputs": [
    {
     "name": "stdout",
     "output_type": "stream",
     "text": [
      "Model and scaler for ticker loaded successfully!\n",
      "\n"
     ]
    }
   ],
   "source": [
    "# Load trained model and scaler for this ticker\n",
    "if not os.path.exists(model_path) or not os.path.exists(scaler_path):\n",
    "    raise FileNotFoundError(\"Model or Scaler not found. Train the model first.\")\n",
    "\n",
    "model = joblib.load(model_path)\n",
    "scaler = joblib.load(scaler_path)\n",
    "print(f\"Model and scaler for ticker loaded successfully!\\n\") #add ticker as variable here for script"
   ]
  },
  {
   "cell_type": "code",
   "execution_count": null,
   "metadata": {},
   "outputs": [
    {
     "name": "stdout",
     "output_type": "stream",
     "text": [
      "UP\n"
     ]
    }
   ],
   "source": [
    "# Make a prediction for the next day's price movement\n",
    "if model is None or scaler is None:\n",
    "    raise ValueError(\"Model and scaler not loaded. Run load_model() first.\")\n",
    "\n",
    "# Use the last available row for prediction\n",
    "latest_features = AAPL.iloc[-1:]\n",
    "latest_features_scaled = scaler.transform(latest_features)\n",
    "\n",
    "prediction = model.predict(latest_features_scaled)\n",
    "print(\"UP\" if {prediction[0] == 1} else \"DOWN\")"
   ]
  }
 ],
 "metadata": {
  "kernelspec": {
   "display_name": "base",
   "language": "python",
   "name": "python3"
  },
  "language_info": {
   "codemirror_mode": {
    "name": "ipython",
    "version": 3
   },
   "file_extension": ".py",
   "mimetype": "text/x-python",
   "name": "python",
   "nbconvert_exporter": "python",
   "pygments_lexer": "ipython3",
   "version": "3.12.2"
  }
 },
 "nbformat": 4,
 "nbformat_minor": 2
}
