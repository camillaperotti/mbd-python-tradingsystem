{
 "cells": [
  {
   "cell_type": "markdown",
   "metadata": {},
   "source": [
    "# Company 1: BRUKER CORP -  ML Process"
   ]
  },
  {
   "cell_type": "markdown",
   "metadata": {},
   "source": [
    "Decision to go with a logistic regression, predicting whether the share price will increase or decrease, based on the share prices of the past 4 days."
   ]
  },
  {
   "cell_type": "markdown",
   "metadata": {},
   "source": [
    "This notebook is organized in the following sections:\n",
    "* [Step 0 - Preliminary: Load the clean csv](#0)\n",
    "* [Step 1 - Remodel dataset](#1)\n",
    "* [Step 2 - Data Analysis](#2)\n",
    "* [Step 3 - Imputing/dropping missing values](#3)\n",
    "* [Step 4 - Ensuring Correct Datatypes](#4)\n",
    "* [Step 5 - Preparation for merging](#5)\n"
   ]
  },
  {
   "cell_type": "markdown",
   "metadata": {},
   "source": [
    "<a id='0'></a>\n",
    "## Step 0 - Preliminary: Load the clean csv"
   ]
  },
  {
   "cell_type": "code",
   "execution_count": 64,
   "metadata": {},
   "outputs": [],
   "source": [
    "import pandas as pd\n",
    "import numpy as np\n",
    "from sklearn.preprocessing import StandardScaler\n",
    "from sklearn.model_selection import train_test_split\n",
    "from sklearn.linear_model import LogisticRegression\n",
    "from sklearn.metrics import accuracy_score"
   ]
  },
  {
   "cell_type": "code",
   "execution_count": 65,
   "metadata": {},
   "outputs": [],
   "source": [
    "prices_bruker = pd.read_csv(\"/Users/camillaperotti/Desktop/IE/Courses MBD/Term 2/PDA II/00_GroupProject/mbd-python-tradingsystem/ETL/pricesbruker_output.csv\")"
   ]
  },
  {
   "cell_type": "code",
   "execution_count": 66,
   "metadata": {},
   "outputs": [],
   "source": [
    "prices_bruker.drop(columns=['Unnamed: 0'], inplace=True)"
   ]
  },
  {
   "cell_type": "code",
   "execution_count": 67,
   "metadata": {},
   "outputs": [
    {
     "data": {
      "text/html": [
       "<div>\n",
       "<style scoped>\n",
       "    .dataframe tbody tr th:only-of-type {\n",
       "        vertical-align: middle;\n",
       "    }\n",
       "\n",
       "    .dataframe tbody tr th {\n",
       "        vertical-align: top;\n",
       "    }\n",
       "\n",
       "    .dataframe thead th {\n",
       "        text-align: right;\n",
       "    }\n",
       "</style>\n",
       "<table border=\"1\" class=\"dataframe\">\n",
       "  <thead>\n",
       "    <tr style=\"text-align: right;\">\n",
       "      <th></th>\n",
       "      <th>Ticker</th>\n",
       "      <th>SimFinId</th>\n",
       "      <th>Date</th>\n",
       "      <th>Open</th>\n",
       "      <th>High</th>\n",
       "      <th>Low</th>\n",
       "      <th>Close</th>\n",
       "      <th>Adj. Close</th>\n",
       "      <th>Volume</th>\n",
       "      <th>Dividend</th>\n",
       "      <th>Shares Outstanding</th>\n",
       "    </tr>\n",
       "  </thead>\n",
       "  <tbody>\n",
       "    <tr>\n",
       "      <th>0</th>\n",
       "      <td>BRKR</td>\n",
       "      <td>1253240</td>\n",
       "      <td>2019-04-01</td>\n",
       "      <td>38.76</td>\n",
       "      <td>39.01</td>\n",
       "      <td>38.47</td>\n",
       "      <td>38.87</td>\n",
       "      <td>38.20</td>\n",
       "      <td>761845</td>\n",
       "      <td>0.00</td>\n",
       "      <td>156814676</td>\n",
       "    </tr>\n",
       "    <tr>\n",
       "      <th>1</th>\n",
       "      <td>BRKR</td>\n",
       "      <td>1253240</td>\n",
       "      <td>2019-04-02</td>\n",
       "      <td>38.94</td>\n",
       "      <td>39.01</td>\n",
       "      <td>38.39</td>\n",
       "      <td>38.53</td>\n",
       "      <td>37.86</td>\n",
       "      <td>666801</td>\n",
       "      <td>0.00</td>\n",
       "      <td>156814676</td>\n",
       "    </tr>\n",
       "    <tr>\n",
       "      <th>2</th>\n",
       "      <td>BRKR</td>\n",
       "      <td>1253240</td>\n",
       "      <td>2019-04-03</td>\n",
       "      <td>38.74</td>\n",
       "      <td>39.24</td>\n",
       "      <td>38.63</td>\n",
       "      <td>39.01</td>\n",
       "      <td>38.33</td>\n",
       "      <td>2647355</td>\n",
       "      <td>0.00</td>\n",
       "      <td>156814676</td>\n",
       "    </tr>\n",
       "    <tr>\n",
       "      <th>3</th>\n",
       "      <td>BRKR</td>\n",
       "      <td>1253240</td>\n",
       "      <td>2019-04-04</td>\n",
       "      <td>38.95</td>\n",
       "      <td>39.01</td>\n",
       "      <td>37.82</td>\n",
       "      <td>38.32</td>\n",
       "      <td>37.66</td>\n",
       "      <td>503730</td>\n",
       "      <td>0.00</td>\n",
       "      <td>156814676</td>\n",
       "    </tr>\n",
       "    <tr>\n",
       "      <th>4</th>\n",
       "      <td>BRKR</td>\n",
       "      <td>1253240</td>\n",
       "      <td>2019-04-05</td>\n",
       "      <td>38.41</td>\n",
       "      <td>39.23</td>\n",
       "      <td>38.30</td>\n",
       "      <td>38.41</td>\n",
       "      <td>37.74</td>\n",
       "      <td>509516</td>\n",
       "      <td>0.00</td>\n",
       "      <td>156814676</td>\n",
       "    </tr>\n",
       "    <tr>\n",
       "      <th>...</th>\n",
       "      <td>...</td>\n",
       "      <td>...</td>\n",
       "      <td>...</td>\n",
       "      <td>...</td>\n",
       "      <td>...</td>\n",
       "      <td>...</td>\n",
       "      <td>...</td>\n",
       "      <td>...</td>\n",
       "      <td>...</td>\n",
       "      <td>...</td>\n",
       "      <td>...</td>\n",
       "    </tr>\n",
       "    <tr>\n",
       "      <th>1234</th>\n",
       "      <td>BRKR</td>\n",
       "      <td>1253240</td>\n",
       "      <td>2024-02-26</td>\n",
       "      <td>84.34</td>\n",
       "      <td>84.88</td>\n",
       "      <td>83.21</td>\n",
       "      <td>83.60</td>\n",
       "      <td>83.35</td>\n",
       "      <td>788986</td>\n",
       "      <td>0.00</td>\n",
       "      <td>137671143</td>\n",
       "    </tr>\n",
       "    <tr>\n",
       "      <th>1235</th>\n",
       "      <td>BRKR</td>\n",
       "      <td>1253240</td>\n",
       "      <td>2024-02-27</td>\n",
       "      <td>83.60</td>\n",
       "      <td>84.29</td>\n",
       "      <td>83.05</td>\n",
       "      <td>83.70</td>\n",
       "      <td>83.45</td>\n",
       "      <td>559922</td>\n",
       "      <td>0.00</td>\n",
       "      <td>137671143</td>\n",
       "    </tr>\n",
       "    <tr>\n",
       "      <th>1236</th>\n",
       "      <td>BRKR</td>\n",
       "      <td>1253240</td>\n",
       "      <td>2024-02-28</td>\n",
       "      <td>84.18</td>\n",
       "      <td>87.25</td>\n",
       "      <td>84.13</td>\n",
       "      <td>86.48</td>\n",
       "      <td>86.23</td>\n",
       "      <td>1433649</td>\n",
       "      <td>0.00</td>\n",
       "      <td>137671143</td>\n",
       "    </tr>\n",
       "    <tr>\n",
       "      <th>1237</th>\n",
       "      <td>BRKR</td>\n",
       "      <td>1253240</td>\n",
       "      <td>2024-02-29</td>\n",
       "      <td>86.90</td>\n",
       "      <td>88.92</td>\n",
       "      <td>85.86</td>\n",
       "      <td>86.54</td>\n",
       "      <td>86.33</td>\n",
       "      <td>2687003</td>\n",
       "      <td>0.05</td>\n",
       "      <td>137671143</td>\n",
       "    </tr>\n",
       "    <tr>\n",
       "      <th>1238</th>\n",
       "      <td>BRKR</td>\n",
       "      <td>1253240</td>\n",
       "      <td>2024-03-01</td>\n",
       "      <td>86.81</td>\n",
       "      <td>88.90</td>\n",
       "      <td>86.06</td>\n",
       "      <td>88.33</td>\n",
       "      <td>88.12</td>\n",
       "      <td>955605</td>\n",
       "      <td>0.00</td>\n",
       "      <td>137671143</td>\n",
       "    </tr>\n",
       "  </tbody>\n",
       "</table>\n",
       "<p>1239 rows × 11 columns</p>\n",
       "</div>"
      ],
      "text/plain": [
       "     Ticker  SimFinId        Date   Open   High    Low  Close  Adj. Close  \\\n",
       "0      BRKR   1253240  2019-04-01  38.76  39.01  38.47  38.87       38.20   \n",
       "1      BRKR   1253240  2019-04-02  38.94  39.01  38.39  38.53       37.86   \n",
       "2      BRKR   1253240  2019-04-03  38.74  39.24  38.63  39.01       38.33   \n",
       "3      BRKR   1253240  2019-04-04  38.95  39.01  37.82  38.32       37.66   \n",
       "4      BRKR   1253240  2019-04-05  38.41  39.23  38.30  38.41       37.74   \n",
       "...     ...       ...         ...    ...    ...    ...    ...         ...   \n",
       "1234   BRKR   1253240  2024-02-26  84.34  84.88  83.21  83.60       83.35   \n",
       "1235   BRKR   1253240  2024-02-27  83.60  84.29  83.05  83.70       83.45   \n",
       "1236   BRKR   1253240  2024-02-28  84.18  87.25  84.13  86.48       86.23   \n",
       "1237   BRKR   1253240  2024-02-29  86.90  88.92  85.86  86.54       86.33   \n",
       "1238   BRKR   1253240  2024-03-01  86.81  88.90  86.06  88.33       88.12   \n",
       "\n",
       "       Volume  Dividend  Shares Outstanding  \n",
       "0      761845      0.00           156814676  \n",
       "1      666801      0.00           156814676  \n",
       "2     2647355      0.00           156814676  \n",
       "3      503730      0.00           156814676  \n",
       "4      509516      0.00           156814676  \n",
       "...       ...       ...                 ...  \n",
       "1234   788986      0.00           137671143  \n",
       "1235   559922      0.00           137671143  \n",
       "1236  1433649      0.00           137671143  \n",
       "1237  2687003      0.05           137671143  \n",
       "1238   955605      0.00           137671143  \n",
       "\n",
       "[1239 rows x 11 columns]"
      ]
     },
     "execution_count": 67,
     "metadata": {},
     "output_type": "execute_result"
    }
   ],
   "source": [
    "prices_bruker"
   ]
  },
  {
   "cell_type": "code",
   "execution_count": 68,
   "metadata": {},
   "outputs": [
    {
     "data": {
      "image/png": "[encoded data removed]",
      "text/plain": [
       "<Figure size 1200x600 with 1 Axes>"
      ]
     },
     "metadata": {},
     "output_type": "display_data"
    }
   ],
   "source": [
    "import matplotlib.pyplot as plt\n",
    "\n",
    "# Plot the Adjusted Close Price as a time series\n",
    "plt.figure(figsize=(12, 6))\n",
    "plt.plot(prices_bruker['Date'], prices_bruker['Adj. Close'], label='Adjusted Close Price', linewidth=2)\n",
    "plt.xlabel('Date')\n",
    "plt.ylabel('Adjusted Close Price')\n",
    "plt.title('Daily Adjusted Close Price Over Time')\n",
    "plt.legend()\n",
    "plt.grid(True)\n",
    "#plt.xticks(rotation=45)  # Rotate date labels for better visibility\n",
    "plt.show()"
   ]
  },
  {
   "cell_type": "markdown",
   "metadata": {},
   "source": [
    "<a id='1'></a>\n",
    "## Step 1 - Dataset preparation"
   ]
  },
  {
   "cell_type": "markdown",
   "metadata": {},
   "source": [
    "We will work only with prices of the last 5 days to predict "
   ]
  },
  {
   "cell_type": "code",
   "execution_count": 69,
   "metadata": {},
   "outputs": [],
   "source": [
    "# Ensure data is sorted by date\n",
    "prices_bruker = prices_bruker.sort_values(\"Date\").reset_index(drop=True)\n",
    "\n",
    "# Drop all unwanted columns\n",
    "prices_bruker.drop(columns=[\"Ticker\",\"SimFinId\",\"Open\",\"High\", \"Low\", \"Close\", \"Volume\", \"Dividend\",\"Shares Outstanding\"],inplace = True)\n",
    "\n",
    "# Rename adjusted close column\n",
    "\n",
    "prices_bruker.rename(columns={\"Adj. Close\": \"Price\"}, inplace= True)"
   ]
  },
  {
   "cell_type": "markdown",
   "metadata": {},
   "source": [
    "Let's add the last 4 days' prices into the df:"
   ]
  },
  {
   "cell_type": "code",
   "execution_count": 70,
   "metadata": {},
   "outputs": [],
   "source": [
    "days = 4\n",
    "\n",
    "for day in range(1, days + 1):\n",
    "    prices_bruker[f\"Price d-{day}\"] = prices_bruker[\"Price\"].shift(day)"
   ]
  },
  {
   "cell_type": "code",
   "execution_count": 71,
   "metadata": {},
   "outputs": [],
   "source": [
    "#dropping first rows with missing values\n",
    "\n",
    "prices_bruker = prices_bruker.dropna()"
   ]
  },
  {
   "cell_type": "code",
   "execution_count": 72,
   "metadata": {},
   "outputs": [
    {
     "data": {
      "text/html": [
       "<div>\n",
       "<style scoped>\n",
       "    .dataframe tbody tr th:only-of-type {\n",
       "        vertical-align: middle;\n",
       "    }\n",
       "\n",
       "    .dataframe tbody tr th {\n",
       "        vertical-align: top;\n",
       "    }\n",
       "\n",
       "    .dataframe thead th {\n",
       "        text-align: right;\n",
       "    }\n",
       "</style>\n",
       "<table border=\"1\" class=\"dataframe\">\n",
       "  <thead>\n",
       "    <tr style=\"text-align: right;\">\n",
       "      <th></th>\n",
       "      <th>Date</th>\n",
       "      <th>Price</th>\n",
       "      <th>Price d-1</th>\n",
       "      <th>Price d-2</th>\n",
       "      <th>Price d-3</th>\n",
       "      <th>Price d-4</th>\n",
       "    </tr>\n",
       "  </thead>\n",
       "  <tbody>\n",
       "    <tr>\n",
       "      <th>4</th>\n",
       "      <td>2019-04-05</td>\n",
       "      <td>37.74</td>\n",
       "      <td>37.66</td>\n",
       "      <td>38.33</td>\n",
       "      <td>37.86</td>\n",
       "      <td>38.20</td>\n",
       "    </tr>\n",
       "    <tr>\n",
       "      <th>5</th>\n",
       "      <td>2019-04-08</td>\n",
       "      <td>38.16</td>\n",
       "      <td>37.74</td>\n",
       "      <td>37.66</td>\n",
       "      <td>38.33</td>\n",
       "      <td>37.86</td>\n",
       "    </tr>\n",
       "    <tr>\n",
       "      <th>6</th>\n",
       "      <td>2019-04-09</td>\n",
       "      <td>37.98</td>\n",
       "      <td>38.16</td>\n",
       "      <td>37.74</td>\n",
       "      <td>37.66</td>\n",
       "      <td>38.33</td>\n",
       "    </tr>\n",
       "    <tr>\n",
       "      <th>7</th>\n",
       "      <td>2019-04-10</td>\n",
       "      <td>38.33</td>\n",
       "      <td>37.98</td>\n",
       "      <td>38.16</td>\n",
       "      <td>37.74</td>\n",
       "      <td>37.66</td>\n",
       "    </tr>\n",
       "    <tr>\n",
       "      <th>8</th>\n",
       "      <td>2019-04-11</td>\n",
       "      <td>38.41</td>\n",
       "      <td>38.33</td>\n",
       "      <td>37.98</td>\n",
       "      <td>38.16</td>\n",
       "      <td>37.74</td>\n",
       "    </tr>\n",
       "  </tbody>\n",
       "</table>\n",
       "</div>"
      ],
      "text/plain": [
       "         Date  Price  Price d-1  Price d-2  Price d-3  Price d-4\n",
       "4  2019-04-05  37.74      37.66      38.33      37.86      38.20\n",
       "5  2019-04-08  38.16      37.74      37.66      38.33      37.86\n",
       "6  2019-04-09  37.98      38.16      37.74      37.66      38.33\n",
       "7  2019-04-10  38.33      37.98      38.16      37.74      37.66\n",
       "8  2019-04-11  38.41      38.33      37.98      38.16      37.74"
      ]
     },
     "execution_count": 72,
     "metadata": {},
     "output_type": "execute_result"
    }
   ],
   "source": [
    "prices_bruker.head()"
   ]
  },
  {
   "cell_type": "markdown",
   "metadata": {},
   "source": [
    "Add the target variable (1: tomorrow's price goes up, 0: price goes down or stays the same):"
   ]
  },
  {
   "cell_type": "code",
   "execution_count": 73,
   "metadata": {},
   "outputs": [],
   "source": [
    "prices_bruker[\"Price_Up\"] = (prices_bruker[\"Price\"].shift(-1) > prices_bruker[\"Price\"]).astype(int)"
   ]
  },
  {
   "cell_type": "markdown",
   "metadata": {},
   "source": [
    "Dropping last row as it has no \"next day\" to compare to:"
   ]
  },
  {
   "cell_type": "code",
   "execution_count": 74,
   "metadata": {},
   "outputs": [],
   "source": [
    "prices_bruker = prices_bruker.drop(index=1238)"
   ]
  },
  {
   "cell_type": "markdown",
   "metadata": {},
   "source": [
    "The dataset is now ready to be used for the logistic regression."
   ]
  },
  {
   "cell_type": "code",
   "execution_count": 79,
   "metadata": {},
   "outputs": [
    {
     "data": {
      "text/html": [
       "<div>\n",
       "<style scoped>\n",
       "    .dataframe tbody tr th:only-of-type {\n",
       "        vertical-align: middle;\n",
       "    }\n",
       "\n",
       "    .dataframe tbody tr th {\n",
       "        vertical-align: top;\n",
       "    }\n",
       "\n",
       "    .dataframe thead th {\n",
       "        text-align: right;\n",
       "    }\n",
       "</style>\n",
       "<table border=\"1\" class=\"dataframe\">\n",
       "  <thead>\n",
       "    <tr style=\"text-align: right;\">\n",
       "      <th></th>\n",
       "      <th>Date</th>\n",
       "      <th>Price</th>\n",
       "      <th>Price d-1</th>\n",
       "      <th>Price d-2</th>\n",
       "      <th>Price d-3</th>\n",
       "      <th>Price d-4</th>\n",
       "      <th>Price_Up</th>\n",
       "    </tr>\n",
       "  </thead>\n",
       "  <tbody>\n",
       "    <tr>\n",
       "      <th>4</th>\n",
       "      <td>2019-04-05</td>\n",
       "      <td>37.74</td>\n",
       "      <td>37.66</td>\n",
       "      <td>38.33</td>\n",
       "      <td>37.86</td>\n",
       "      <td>38.20</td>\n",
       "      <td>1</td>\n",
       "    </tr>\n",
       "    <tr>\n",
       "      <th>5</th>\n",
       "      <td>2019-04-08</td>\n",
       "      <td>38.16</td>\n",
       "      <td>37.74</td>\n",
       "      <td>37.66</td>\n",
       "      <td>38.33</td>\n",
       "      <td>37.86</td>\n",
       "      <td>0</td>\n",
       "    </tr>\n",
       "    <tr>\n",
       "      <th>6</th>\n",
       "      <td>2019-04-09</td>\n",
       "      <td>37.98</td>\n",
       "      <td>38.16</td>\n",
       "      <td>37.74</td>\n",
       "      <td>37.66</td>\n",
       "      <td>38.33</td>\n",
       "      <td>1</td>\n",
       "    </tr>\n",
       "    <tr>\n",
       "      <th>7</th>\n",
       "      <td>2019-04-10</td>\n",
       "      <td>38.33</td>\n",
       "      <td>37.98</td>\n",
       "      <td>38.16</td>\n",
       "      <td>37.74</td>\n",
       "      <td>37.66</td>\n",
       "      <td>1</td>\n",
       "    </tr>\n",
       "    <tr>\n",
       "      <th>8</th>\n",
       "      <td>2019-04-11</td>\n",
       "      <td>38.41</td>\n",
       "      <td>38.33</td>\n",
       "      <td>37.98</td>\n",
       "      <td>38.16</td>\n",
       "      <td>37.74</td>\n",
       "      <td>1</td>\n",
       "    </tr>\n",
       "    <tr>\n",
       "      <th>...</th>\n",
       "      <td>...</td>\n",
       "      <td>...</td>\n",
       "      <td>...</td>\n",
       "      <td>...</td>\n",
       "      <td>...</td>\n",
       "      <td>...</td>\n",
       "      <td>...</td>\n",
       "    </tr>\n",
       "    <tr>\n",
       "      <th>1233</th>\n",
       "      <td>2024-02-23</td>\n",
       "      <td>84.42</td>\n",
       "      <td>83.49</td>\n",
       "      <td>81.68</td>\n",
       "      <td>80.86</td>\n",
       "      <td>81.58</td>\n",
       "      <td>0</td>\n",
       "    </tr>\n",
       "    <tr>\n",
       "      <th>1234</th>\n",
       "      <td>2024-02-26</td>\n",
       "      <td>83.35</td>\n",
       "      <td>84.42</td>\n",
       "      <td>83.49</td>\n",
       "      <td>81.68</td>\n",
       "      <td>80.86</td>\n",
       "      <td>1</td>\n",
       "    </tr>\n",
       "    <tr>\n",
       "      <th>1235</th>\n",
       "      <td>2024-02-27</td>\n",
       "      <td>83.45</td>\n",
       "      <td>83.35</td>\n",
       "      <td>84.42</td>\n",
       "      <td>83.49</td>\n",
       "      <td>81.68</td>\n",
       "      <td>1</td>\n",
       "    </tr>\n",
       "    <tr>\n",
       "      <th>1236</th>\n",
       "      <td>2024-02-28</td>\n",
       "      <td>86.23</td>\n",
       "      <td>83.45</td>\n",
       "      <td>83.35</td>\n",
       "      <td>84.42</td>\n",
       "      <td>83.49</td>\n",
       "      <td>1</td>\n",
       "    </tr>\n",
       "    <tr>\n",
       "      <th>1237</th>\n",
       "      <td>2024-02-29</td>\n",
       "      <td>86.33</td>\n",
       "      <td>86.23</td>\n",
       "      <td>83.45</td>\n",
       "      <td>83.35</td>\n",
       "      <td>84.42</td>\n",
       "      <td>1</td>\n",
       "    </tr>\n",
       "  </tbody>\n",
       "</table>\n",
       "<p>1234 rows × 7 columns</p>\n",
       "</div>"
      ],
      "text/plain": [
       "            Date  Price  Price d-1  Price d-2  Price d-3  Price d-4  Price_Up\n",
       "4     2019-04-05  37.74      37.66      38.33      37.86      38.20         1\n",
       "5     2019-04-08  38.16      37.74      37.66      38.33      37.86         0\n",
       "6     2019-04-09  37.98      38.16      37.74      37.66      38.33         1\n",
       "7     2019-04-10  38.33      37.98      38.16      37.74      37.66         1\n",
       "8     2019-04-11  38.41      38.33      37.98      38.16      37.74         1\n",
       "...          ...    ...        ...        ...        ...        ...       ...\n",
       "1233  2024-02-23  84.42      83.49      81.68      80.86      81.58         0\n",
       "1234  2024-02-26  83.35      84.42      83.49      81.68      80.86         1\n",
       "1235  2024-02-27  83.45      83.35      84.42      83.49      81.68         1\n",
       "1236  2024-02-28  86.23      83.45      83.35      84.42      83.49         1\n",
       "1237  2024-02-29  86.33      86.23      83.45      83.35      84.42         1\n",
       "\n",
       "[1234 rows x 7 columns]"
      ]
     },
     "execution_count": 79,
     "metadata": {},
     "output_type": "execute_result"
    }
   ],
   "source": [
    "prices_bruker"
   ]
  },
  {
   "cell_type": "markdown",
   "metadata": {},
   "source": [
    "Check if dataset is balanced:"
   ]
  },
  {
   "cell_type": "code",
   "execution_count": 78,
   "metadata": {},
   "outputs": [
    {
     "data": {
      "text/plain": [
       "Price_Up\n",
       "1    0.519449\n",
       "0    0.480551\n",
       "Name: count, dtype: float64"
      ]
     },
     "execution_count": 78,
     "metadata": {},
     "output_type": "execute_result"
    }
   ],
   "source": [
    "prices_bruker[\"Price_Up\"].value_counts() / len(prices_bruker)"
   ]
  },
  {
   "cell_type": "markdown",
   "metadata": {},
   "source": [
    "Conclusion: The dataset is balanced. Let's visualize our features and target.\n",
    "- Features: all prices of last 5 days\n",
    "- Target variable: Prediction if price will rise (1) or fall / remain the same (0)"
   ]
  },
  {
   "cell_type": "code",
   "execution_count": null,
   "metadata": {},
   "outputs": [],
   "source": [
    "#visualization perhaps ?"
   ]
  },
  {
   "cell_type": "markdown",
   "metadata": {},
   "source": [
    "<a id='1'></a>\n",
    "## Step 1 - Data Analysis"
   ]
  },
  {
   "cell_type": "markdown",
   "metadata": {},
   "source": []
  }
 ],
 "metadata": {
  "kernelspec": {
   "display_name": "base",
   "language": "python",
   "name": "python3"
  },
  "language_info": {
   "codemirror_mode": {
    "name": "ipython",
    "version": 3
   },
   "file_extension": ".py",
   "mimetype": "text/x-python",
   "name": "python",
   "nbconvert_exporter": "python",
   "pygments_lexer": "ipython3",
   "version": "3.12.2"
  }
 },
 "nbformat": 4,
 "nbformat_minor": 2
}
