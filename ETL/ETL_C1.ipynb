{
 "cells": [
  {
   "cell_type": "markdown",
   "metadata": {},
   "source": [
    "# Company1 - ETL Process"
   ]
  },
  {
   "cell_type": "markdown",
   "metadata": {},
   "source": [
    "This notebook is organized in the following sections:\n",
    "* [Step 0 - Preliminary: Viewing the data](#0)\n",
    "* [Step 1 - Checking for duplicates](#1)\n",
    "* [Step 2 - Checking for missing values](#2)\n",
    "* [Step 3 - Imputing/dropping missing values](#3)\n",
    "* [Step 4 - Ensuring Correct Datatypes](#4)\n",
    "* [Step 5 - Preparation for merging](#5)\n"
   ]
  },
  {
   "cell_type": "markdown",
   "metadata": {},
   "source": [
    "<a id='0'></a>\n",
    "## Step 0 - Preliminary: Viewing the data"
   ]
  },
  {
   "cell_type": "code",
   "execution_count": 1,
   "metadata": {},
   "outputs": [],
   "source": [
    "import pandas as pd"
   ]
  },
  {
   "cell_type": "code",
   "execution_count": 6,
   "metadata": {},
   "outputs": [],
   "source": [
    "# Load the share prices csv\n",
    "\n",
    "prices = pd.read_csv(\"data/us-shareprices-daily.csv\",delimiter=';')"
   ]
  },
  {
   "cell_type": "code",
   "execution_count": 16,
   "metadata": {},
   "outputs": [
    {
     "data": {
      "text/html": [
       "<div>\n",
       "<style scoped>\n",
       "    .dataframe tbody tr th:only-of-type {\n",
       "        vertical-align: middle;\n",
       "    }\n",
       "\n",
       "    .dataframe tbody tr th {\n",
       "        vertical-align: top;\n",
       "    }\n",
       "\n",
       "    .dataframe thead th {\n",
       "        text-align: right;\n",
       "    }\n",
       "</style>\n",
       "<table border=\"1\" class=\"dataframe\">\n",
       "  <thead>\n",
       "    <tr style=\"text-align: right;\">\n",
       "      <th></th>\n",
       "      <th>Ticker</th>\n",
       "      <th>SimFinId</th>\n",
       "      <th>Date</th>\n",
       "      <th>Open</th>\n",
       "      <th>High</th>\n",
       "      <th>Low</th>\n",
       "      <th>Close</th>\n",
       "      <th>Adj. Close</th>\n",
       "      <th>Volume</th>\n",
       "      <th>Dividend</th>\n",
       "      <th>Shares Outstanding</th>\n",
       "    </tr>\n",
       "  </thead>\n",
       "  <tbody>\n",
       "    <tr>\n",
       "      <th>5767354</th>\n",
       "      <td>ZYXI</td>\n",
       "      <td>171401</td>\n",
       "      <td>2024-02-26</td>\n",
       "      <td>13.04</td>\n",
       "      <td>13.04</td>\n",
       "      <td>12.67</td>\n",
       "      <td>12.82</td>\n",
       "      <td>12.82</td>\n",
       "      <td>335055</td>\n",
       "      <td>NaN</td>\n",
       "      <td>36435000.0</td>\n",
       "    </tr>\n",
       "    <tr>\n",
       "      <th>5767355</th>\n",
       "      <td>ZYXI</td>\n",
       "      <td>171401</td>\n",
       "      <td>2024-02-27</td>\n",
       "      <td>12.83</td>\n",
       "      <td>13.77</td>\n",
       "      <td>12.83</td>\n",
       "      <td>13.74</td>\n",
       "      <td>13.74</td>\n",
       "      <td>395525</td>\n",
       "      <td>NaN</td>\n",
       "      <td>36435000.0</td>\n",
       "    </tr>\n",
       "    <tr>\n",
       "      <th>5767356</th>\n",
       "      <td>ZYXI</td>\n",
       "      <td>171401</td>\n",
       "      <td>2024-02-28</td>\n",
       "      <td>13.63</td>\n",
       "      <td>13.70</td>\n",
       "      <td>13.38</td>\n",
       "      <td>13.49</td>\n",
       "      <td>13.49</td>\n",
       "      <td>290887</td>\n",
       "      <td>NaN</td>\n",
       "      <td>32170182.0</td>\n",
       "    </tr>\n",
       "    <tr>\n",
       "      <th>5767357</th>\n",
       "      <td>ZYXI</td>\n",
       "      <td>171401</td>\n",
       "      <td>2024-02-29</td>\n",
       "      <td>13.51</td>\n",
       "      <td>13.57</td>\n",
       "      <td>13.28</td>\n",
       "      <td>13.56</td>\n",
       "      <td>13.56</td>\n",
       "      <td>232534</td>\n",
       "      <td>NaN</td>\n",
       "      <td>32170182.0</td>\n",
       "    </tr>\n",
       "    <tr>\n",
       "      <th>5767358</th>\n",
       "      <td>ZYXI</td>\n",
       "      <td>171401</td>\n",
       "      <td>2024-03-01</td>\n",
       "      <td>12.05</td>\n",
       "      <td>13.43</td>\n",
       "      <td>12.00</td>\n",
       "      <td>12.30</td>\n",
       "      <td>12.30</td>\n",
       "      <td>1216112</td>\n",
       "      <td>NaN</td>\n",
       "      <td>32170182.0</td>\n",
       "    </tr>\n",
       "  </tbody>\n",
       "</table>\n",
       "</div>"
      ],
      "text/plain": [
       "        Ticker  SimFinId        Date   Open   High    Low  Close  Adj. Close  \\\n",
       "5767354   ZYXI    171401  2024-02-26  13.04  13.04  12.67  12.82       12.82   \n",
       "5767355   ZYXI    171401  2024-02-27  12.83  13.77  12.83  13.74       13.74   \n",
       "5767356   ZYXI    171401  2024-02-28  13.63  13.70  13.38  13.49       13.49   \n",
       "5767357   ZYXI    171401  2024-02-29  13.51  13.57  13.28  13.56       13.56   \n",
       "5767358   ZYXI    171401  2024-03-01  12.05  13.43  12.00  12.30       12.30   \n",
       "\n",
       "          Volume  Dividend  Shares Outstanding  \n",
       "5767354   335055       NaN          36435000.0  \n",
       "5767355   395525       NaN          36435000.0  \n",
       "5767356   290887       NaN          32170182.0  \n",
       "5767357   232534       NaN          32170182.0  \n",
       "5767358  1216112       NaN          32170182.0  "
      ]
     },
     "execution_count": 16,
     "metadata": {},
     "output_type": "execute_result"
    }
   ],
   "source": [
    "prices.tail()"
   ]
  },
  {
   "cell_type": "code",
   "execution_count": 9,
   "metadata": {},
   "outputs": [],
   "source": [
    "# Load the companies csv \n",
    "companies = pd.read_csv(\"data/us-companies.csv\",delimiter=';')"
   ]
  },
  {
   "cell_type": "code",
   "execution_count": 13,
   "metadata": {},
   "outputs": [
    {
     "data": {
      "text/html": [
       "<div>\n",
       "<style scoped>\n",
       "    .dataframe tbody tr th:only-of-type {\n",
       "        vertical-align: middle;\n",
       "    }\n",
       "\n",
       "    .dataframe tbody tr th {\n",
       "        vertical-align: top;\n",
       "    }\n",
       "\n",
       "    .dataframe thead th {\n",
       "        text-align: right;\n",
       "    }\n",
       "</style>\n",
       "<table border=\"1\" class=\"dataframe\">\n",
       "  <thead>\n",
       "    <tr style=\"text-align: right;\">\n",
       "      <th></th>\n",
       "      <th>Ticker</th>\n",
       "      <th>SimFinId</th>\n",
       "      <th>Company Name</th>\n",
       "      <th>IndustryId</th>\n",
       "      <th>ISIN</th>\n",
       "      <th>End of financial year (month)</th>\n",
       "      <th>Number Employees</th>\n",
       "      <th>Business Summary</th>\n",
       "      <th>Market</th>\n",
       "      <th>CIK</th>\n",
       "      <th>Main Currency</th>\n",
       "    </tr>\n",
       "  </thead>\n",
       "  <tbody>\n",
       "    <tr>\n",
       "      <th>6065</th>\n",
       "      <td>ZWS</td>\n",
       "      <td>17663788</td>\n",
       "      <td>Zurn Elkay Water Solutions Corporation</td>\n",
       "      <td>100001.0</td>\n",
       "      <td>US98983L1089</td>\n",
       "      <td>12.0</td>\n",
       "      <td>2700.0</td>\n",
       "      <td>Zurn Elkay Water Solutions Corporation designs...</td>\n",
       "      <td>us</td>\n",
       "      <td>1439288.0</td>\n",
       "      <td>USD</td>\n",
       "    </tr>\n",
       "    <tr>\n",
       "      <th>6066</th>\n",
       "      <td>ZY</td>\n",
       "      <td>1243193</td>\n",
       "      <td>Zymergen Inc.</td>\n",
       "      <td>106002.0</td>\n",
       "      <td>US98985X1000</td>\n",
       "      <td>12.0</td>\n",
       "      <td>758.0</td>\n",
       "      <td>Zymergen is a biofacturing company using biolo...</td>\n",
       "      <td>us</td>\n",
       "      <td>1645842.0</td>\n",
       "      <td>USD</td>\n",
       "    </tr>\n",
       "    <tr>\n",
       "      <th>6067</th>\n",
       "      <td>ZYME</td>\n",
       "      <td>17663790</td>\n",
       "      <td>Zymeworks Inc.</td>\n",
       "      <td>106002.0</td>\n",
       "      <td>CA98985W1023</td>\n",
       "      <td>12.0</td>\n",
       "      <td>291.0</td>\n",
       "      <td>Zymeworks Inc., a clinical-stage biopharmaceut...</td>\n",
       "      <td>us</td>\n",
       "      <td>1403752.0</td>\n",
       "      <td>USD</td>\n",
       "    </tr>\n",
       "    <tr>\n",
       "      <th>6068</th>\n",
       "      <td>ZYNE</td>\n",
       "      <td>901704</td>\n",
       "      <td>Zynerba Pharmaceuticals, Inc.</td>\n",
       "      <td>106002.0</td>\n",
       "      <td>US98986X1090</td>\n",
       "      <td>12.0</td>\n",
       "      <td>25.0</td>\n",
       "      <td>Zynerba Pharmaceuticals Inc together with its ...</td>\n",
       "      <td>us</td>\n",
       "      <td>1621443.0</td>\n",
       "      <td>USD</td>\n",
       "    </tr>\n",
       "    <tr>\n",
       "      <th>6069</th>\n",
       "      <td>ZYXI</td>\n",
       "      <td>171401</td>\n",
       "      <td>ZYNEX INC</td>\n",
       "      <td>106004.0</td>\n",
       "      <td>US98986M1036</td>\n",
       "      <td>12.0</td>\n",
       "      <td>768.0</td>\n",
       "      <td>Zynex, Inc. engages in the design, manufacture...</td>\n",
       "      <td>us</td>\n",
       "      <td>846475.0</td>\n",
       "      <td>USD</td>\n",
       "    </tr>\n",
       "  </tbody>\n",
       "</table>\n",
       "</div>"
      ],
      "text/plain": [
       "     Ticker  SimFinId                            Company Name  IndustryId  \\\n",
       "6065    ZWS  17663788  Zurn Elkay Water Solutions Corporation    100001.0   \n",
       "6066     ZY   1243193                           Zymergen Inc.    106002.0   \n",
       "6067   ZYME  17663790                          Zymeworks Inc.    106002.0   \n",
       "6068   ZYNE    901704           Zynerba Pharmaceuticals, Inc.    106002.0   \n",
       "6069   ZYXI    171401                               ZYNEX INC    106004.0   \n",
       "\n",
       "              ISIN  End of financial year (month)  Number Employees  \\\n",
       "6065  US98983L1089                           12.0            2700.0   \n",
       "6066  US98985X1000                           12.0             758.0   \n",
       "6067  CA98985W1023                           12.0             291.0   \n",
       "6068  US98986X1090                           12.0              25.0   \n",
       "6069  US98986M1036                           12.0             768.0   \n",
       "\n",
       "                                       Business Summary Market        CIK  \\\n",
       "6065  Zurn Elkay Water Solutions Corporation designs...     us  1439288.0   \n",
       "6066  Zymergen is a biofacturing company using biolo...     us  1645842.0   \n",
       "6067  Zymeworks Inc., a clinical-stage biopharmaceut...     us  1403752.0   \n",
       "6068  Zynerba Pharmaceuticals Inc together with its ...     us  1621443.0   \n",
       "6069  Zynex, Inc. engages in the design, manufacture...     us   846475.0   \n",
       "\n",
       "     Main Currency  \n",
       "6065           USD  \n",
       "6066           USD  \n",
       "6067           USD  \n",
       "6068           USD  \n",
       "6069           USD  "
      ]
     },
     "execution_count": 13,
     "metadata": {},
     "output_type": "execute_result"
    }
   ],
   "source": [
    "companies.tail()"
   ]
  },
  {
   "cell_type": "markdown",
   "metadata": {},
   "source": [
    "Selecting a company:"
   ]
  },
  {
   "cell_type": "code",
   "execution_count": null,
   "metadata": {},
   "outputs": [],
   "source": [
    "unique_companies = list(companies[\"Company Name\"].unique())\n",
    "unique_companies"
   ]
  },
  {
   "cell_type": "code",
   "execution_count": 35,
   "metadata": {},
   "outputs": [
    {
     "data": {
      "text/html": [
       "<div>\n",
       "<style scoped>\n",
       "    .dataframe tbody tr th:only-of-type {\n",
       "        vertical-align: middle;\n",
       "    }\n",
       "\n",
       "    .dataframe tbody tr th {\n",
       "        vertical-align: top;\n",
       "    }\n",
       "\n",
       "    .dataframe thead th {\n",
       "        text-align: right;\n",
       "    }\n",
       "</style>\n",
       "<table border=\"1\" class=\"dataframe\">\n",
       "  <thead>\n",
       "    <tr style=\"text-align: right;\">\n",
       "      <th></th>\n",
       "      <th>Ticker</th>\n",
       "      <th>SimFinId</th>\n",
       "      <th>Company Name</th>\n",
       "      <th>IndustryId</th>\n",
       "      <th>ISIN</th>\n",
       "      <th>End of financial year (month)</th>\n",
       "      <th>Number Employees</th>\n",
       "      <th>Business Summary</th>\n",
       "      <th>Market</th>\n",
       "      <th>CIK</th>\n",
       "      <th>Main Currency</th>\n",
       "    </tr>\n",
       "  </thead>\n",
       "  <tbody>\n",
       "    <tr>\n",
       "      <th>930</th>\n",
       "      <td>BRKR</td>\n",
       "      <td>1253240</td>\n",
       "      <td>BRUKER CORP</td>\n",
       "      <td>106001.0</td>\n",
       "      <td>US1167941087</td>\n",
       "      <td>12.0</td>\n",
       "      <td>7400.0</td>\n",
       "      <td>Bruker is enabling scientists to make breakthr...</td>\n",
       "      <td>us</td>\n",
       "      <td>1109354.0</td>\n",
       "      <td>USD</td>\n",
       "    </tr>\n",
       "  </tbody>\n",
       "</table>\n",
       "</div>"
      ],
      "text/plain": [
       "    Ticker  SimFinId Company Name  IndustryId          ISIN  \\\n",
       "930   BRKR   1253240  BRUKER CORP    106001.0  US1167941087   \n",
       "\n",
       "     End of financial year (month)  Number Employees  \\\n",
       "930                           12.0            7400.0   \n",
       "\n",
       "                                      Business Summary Market        CIK  \\\n",
       "930  Bruker is enabling scientists to make breakthr...     us  1109354.0   \n",
       "\n",
       "    Main Currency  \n",
       "930           USD  "
      ]
     },
     "execution_count": 35,
     "metadata": {},
     "output_type": "execute_result"
    }
   ],
   "source": [
    "company_bruker = companies[companies[\"SimFinId\"] == 1253240]\n",
    "company_bruker"
   ]
  },
  {
   "cell_type": "code",
   "execution_count": 37,
   "metadata": {},
   "outputs": [
    {
     "data": {
      "text/html": [
       "<div>\n",
       "<style scoped>\n",
       "    .dataframe tbody tr th:only-of-type {\n",
       "        vertical-align: middle;\n",
       "    }\n",
       "\n",
       "    .dataframe tbody tr th {\n",
       "        vertical-align: top;\n",
       "    }\n",
       "\n",
       "    .dataframe thead th {\n",
       "        text-align: right;\n",
       "    }\n",
       "</style>\n",
       "<table border=\"1\" class=\"dataframe\">\n",
       "  <thead>\n",
       "    <tr style=\"text-align: right;\">\n",
       "      <th></th>\n",
       "      <th>Ticker</th>\n",
       "      <th>SimFinId</th>\n",
       "      <th>Date</th>\n",
       "      <th>Open</th>\n",
       "      <th>High</th>\n",
       "      <th>Low</th>\n",
       "      <th>Close</th>\n",
       "      <th>Adj. Close</th>\n",
       "      <th>Volume</th>\n",
       "      <th>Dividend</th>\n",
       "      <th>Shares Outstanding</th>\n",
       "    </tr>\n",
       "  </thead>\n",
       "  <tbody>\n",
       "    <tr>\n",
       "      <th>812641</th>\n",
       "      <td>BRKR</td>\n",
       "      <td>1253240</td>\n",
       "      <td>2019-04-01</td>\n",
       "      <td>38.76</td>\n",
       "      <td>39.01</td>\n",
       "      <td>38.47</td>\n",
       "      <td>38.87</td>\n",
       "      <td>38.20</td>\n",
       "      <td>761845</td>\n",
       "      <td>NaN</td>\n",
       "      <td>156814676.0</td>\n",
       "    </tr>\n",
       "    <tr>\n",
       "      <th>812642</th>\n",
       "      <td>BRKR</td>\n",
       "      <td>1253240</td>\n",
       "      <td>2019-04-02</td>\n",
       "      <td>38.94</td>\n",
       "      <td>39.01</td>\n",
       "      <td>38.39</td>\n",
       "      <td>38.53</td>\n",
       "      <td>37.86</td>\n",
       "      <td>666801</td>\n",
       "      <td>NaN</td>\n",
       "      <td>156814676.0</td>\n",
       "    </tr>\n",
       "    <tr>\n",
       "      <th>812643</th>\n",
       "      <td>BRKR</td>\n",
       "      <td>1253240</td>\n",
       "      <td>2019-04-03</td>\n",
       "      <td>38.74</td>\n",
       "      <td>39.24</td>\n",
       "      <td>38.63</td>\n",
       "      <td>39.01</td>\n",
       "      <td>38.33</td>\n",
       "      <td>2647355</td>\n",
       "      <td>NaN</td>\n",
       "      <td>156814676.0</td>\n",
       "    </tr>\n",
       "    <tr>\n",
       "      <th>812644</th>\n",
       "      <td>BRKR</td>\n",
       "      <td>1253240</td>\n",
       "      <td>2019-04-04</td>\n",
       "      <td>38.95</td>\n",
       "      <td>39.01</td>\n",
       "      <td>37.82</td>\n",
       "      <td>38.32</td>\n",
       "      <td>37.66</td>\n",
       "      <td>503730</td>\n",
       "      <td>NaN</td>\n",
       "      <td>156814676.0</td>\n",
       "    </tr>\n",
       "    <tr>\n",
       "      <th>812645</th>\n",
       "      <td>BRKR</td>\n",
       "      <td>1253240</td>\n",
       "      <td>2019-04-05</td>\n",
       "      <td>38.41</td>\n",
       "      <td>39.23</td>\n",
       "      <td>38.30</td>\n",
       "      <td>38.41</td>\n",
       "      <td>37.74</td>\n",
       "      <td>509516</td>\n",
       "      <td>NaN</td>\n",
       "      <td>156814676.0</td>\n",
       "    </tr>\n",
       "    <tr>\n",
       "      <th>...</th>\n",
       "      <td>...</td>\n",
       "      <td>...</td>\n",
       "      <td>...</td>\n",
       "      <td>...</td>\n",
       "      <td>...</td>\n",
       "      <td>...</td>\n",
       "      <td>...</td>\n",
       "      <td>...</td>\n",
       "      <td>...</td>\n",
       "      <td>...</td>\n",
       "      <td>...</td>\n",
       "    </tr>\n",
       "    <tr>\n",
       "      <th>813875</th>\n",
       "      <td>BRKR</td>\n",
       "      <td>1253240</td>\n",
       "      <td>2024-02-26</td>\n",
       "      <td>84.34</td>\n",
       "      <td>84.88</td>\n",
       "      <td>83.21</td>\n",
       "      <td>83.60</td>\n",
       "      <td>83.35</td>\n",
       "      <td>788986</td>\n",
       "      <td>NaN</td>\n",
       "      <td>137671143.0</td>\n",
       "    </tr>\n",
       "    <tr>\n",
       "      <th>813876</th>\n",
       "      <td>BRKR</td>\n",
       "      <td>1253240</td>\n",
       "      <td>2024-02-27</td>\n",
       "      <td>83.60</td>\n",
       "      <td>84.29</td>\n",
       "      <td>83.05</td>\n",
       "      <td>83.70</td>\n",
       "      <td>83.45</td>\n",
       "      <td>559922</td>\n",
       "      <td>NaN</td>\n",
       "      <td>137671143.0</td>\n",
       "    </tr>\n",
       "    <tr>\n",
       "      <th>813877</th>\n",
       "      <td>BRKR</td>\n",
       "      <td>1253240</td>\n",
       "      <td>2024-02-28</td>\n",
       "      <td>84.18</td>\n",
       "      <td>87.25</td>\n",
       "      <td>84.13</td>\n",
       "      <td>86.48</td>\n",
       "      <td>86.23</td>\n",
       "      <td>1433649</td>\n",
       "      <td>NaN</td>\n",
       "      <td>137671143.0</td>\n",
       "    </tr>\n",
       "    <tr>\n",
       "      <th>813878</th>\n",
       "      <td>BRKR</td>\n",
       "      <td>1253240</td>\n",
       "      <td>2024-02-29</td>\n",
       "      <td>86.90</td>\n",
       "      <td>88.92</td>\n",
       "      <td>85.86</td>\n",
       "      <td>86.54</td>\n",
       "      <td>86.33</td>\n",
       "      <td>2687003</td>\n",
       "      <td>0.05</td>\n",
       "      <td>137671143.0</td>\n",
       "    </tr>\n",
       "    <tr>\n",
       "      <th>813879</th>\n",
       "      <td>BRKR</td>\n",
       "      <td>1253240</td>\n",
       "      <td>2024-03-01</td>\n",
       "      <td>86.81</td>\n",
       "      <td>88.90</td>\n",
       "      <td>86.06</td>\n",
       "      <td>88.33</td>\n",
       "      <td>88.12</td>\n",
       "      <td>955605</td>\n",
       "      <td>NaN</td>\n",
       "      <td>137671143.0</td>\n",
       "    </tr>\n",
       "  </tbody>\n",
       "</table>\n",
       "<p>1239 rows × 11 columns</p>\n",
       "</div>"
      ],
      "text/plain": [
       "       Ticker  SimFinId        Date   Open   High    Low  Close  Adj. Close  \\\n",
       "812641   BRKR   1253240  2019-04-01  38.76  39.01  38.47  38.87       38.20   \n",
       "812642   BRKR   1253240  2019-04-02  38.94  39.01  38.39  38.53       37.86   \n",
       "812643   BRKR   1253240  2019-04-03  38.74  39.24  38.63  39.01       38.33   \n",
       "812644   BRKR   1253240  2019-04-04  38.95  39.01  37.82  38.32       37.66   \n",
       "812645   BRKR   1253240  2019-04-05  38.41  39.23  38.30  38.41       37.74   \n",
       "...       ...       ...         ...    ...    ...    ...    ...         ...   \n",
       "813875   BRKR   1253240  2024-02-26  84.34  84.88  83.21  83.60       83.35   \n",
       "813876   BRKR   1253240  2024-02-27  83.60  84.29  83.05  83.70       83.45   \n",
       "813877   BRKR   1253240  2024-02-28  84.18  87.25  84.13  86.48       86.23   \n",
       "813878   BRKR   1253240  2024-02-29  86.90  88.92  85.86  86.54       86.33   \n",
       "813879   BRKR   1253240  2024-03-01  86.81  88.90  86.06  88.33       88.12   \n",
       "\n",
       "         Volume  Dividend  Shares Outstanding  \n",
       "812641   761845       NaN         156814676.0  \n",
       "812642   666801       NaN         156814676.0  \n",
       "812643  2647355       NaN         156814676.0  \n",
       "812644   503730       NaN         156814676.0  \n",
       "812645   509516       NaN         156814676.0  \n",
       "...         ...       ...                 ...  \n",
       "813875   788986       NaN         137671143.0  \n",
       "813876   559922       NaN         137671143.0  \n",
       "813877  1433649       NaN         137671143.0  \n",
       "813878  2687003      0.05         137671143.0  \n",
       "813879   955605       NaN         137671143.0  \n",
       "\n",
       "[1239 rows x 11 columns]"
      ]
     },
     "execution_count": 37,
     "metadata": {},
     "output_type": "execute_result"
    }
   ],
   "source": [
    "prices_bruker = prices[prices[\"SimFinId\"] == 1253240]\n",
    "prices_bruker"
   ]
  },
  {
   "cell_type": "markdown",
   "metadata": {},
   "source": [
    "<a id='1'></a>\n",
    "## Step 1 - Checking for duplicates"
   ]
  },
  {
   "cell_type": "code",
   "execution_count": 19,
   "metadata": {},
   "outputs": [
    {
     "data": {
      "text/plain": [
       "False"
      ]
     },
     "execution_count": 19,
     "metadata": {},
     "output_type": "execute_result"
    }
   ],
   "source": [
    "#Check for share prices\n",
    "\n",
    "prices.duplicated().any()"
   ]
  },
  {
   "cell_type": "code",
   "execution_count": 17,
   "metadata": {},
   "outputs": [
    {
     "data": {
      "text/plain": [
       "False"
      ]
     },
     "execution_count": 17,
     "metadata": {},
     "output_type": "execute_result"
    }
   ],
   "source": [
    "# Check for companies \n",
    "\n",
    "companies.duplicated().any()"
   ]
  },
  {
   "cell_type": "markdown",
   "metadata": {},
   "source": [
    "Conclusion: There are no duplicate values."
   ]
  },
  {
   "cell_type": "markdown",
   "metadata": {},
   "source": [
    "<a id='2'></a>\n",
    "## Step 2 - Checking for missing values"
   ]
  },
  {
   "cell_type": "markdown",
   "metadata": {},
   "source": [
    "**Checking full data sets first:**"
   ]
  },
  {
   "cell_type": "code",
   "execution_count": 21,
   "metadata": {},
   "outputs": [
    {
     "data": {
      "text/plain": [
       "Ticker                0.000000\n",
       "SimFinId              0.000000\n",
       "Date                  0.000000\n",
       "Open                  0.000000\n",
       "High                  0.000000\n",
       "Low                   0.000000\n",
       "Close                 0.000000\n",
       "Adj. Close            0.000000\n",
       "Volume                0.000000\n",
       "Dividend              0.993940\n",
       "Shares Outstanding    0.089509\n",
       "dtype: float64"
      ]
     },
     "execution_count": 21,
     "metadata": {},
     "output_type": "execute_result"
    }
   ],
   "source": [
    "# Check missing values for share prices\n",
    "\n",
    "prices.isna().sum() / len(prices)"
   ]
  },
  {
   "cell_type": "code",
   "execution_count": 22,
   "metadata": {},
   "outputs": [
    {
     "data": {
      "text/plain": [
       "Ticker                           0.012521\n",
       "SimFinId                         0.000000\n",
       "Company Name                     0.012191\n",
       "IndustryId                       0.047117\n",
       "ISIN                             0.178254\n",
       "End of financial year (month)    0.012026\n",
       "Number Employees                 0.124053\n",
       "Business Summary                 0.051400\n",
       "Market                           0.000000\n",
       "CIK                              0.001977\n",
       "Main Currency                    0.000000\n",
       "dtype: float64"
      ]
     },
     "execution_count": 22,
     "metadata": {},
     "output_type": "execute_result"
    }
   ],
   "source": [
    "# Check missing values for companies\n",
    "\n",
    "companies.isna().sum() / len(companies)"
   ]
  },
  {
   "cell_type": "code",
   "execution_count": 29,
   "metadata": {},
   "outputs": [
    {
     "data": {
      "text/html": [
       "<div>\n",
       "<style scoped>\n",
       "    .dataframe tbody tr th:only-of-type {\n",
       "        vertical-align: middle;\n",
       "    }\n",
       "\n",
       "    .dataframe tbody tr th {\n",
       "        vertical-align: top;\n",
       "    }\n",
       "\n",
       "    .dataframe thead th {\n",
       "        text-align: right;\n",
       "    }\n",
       "</style>\n",
       "<table border=\"1\" class=\"dataframe\">\n",
       "  <thead>\n",
       "    <tr style=\"text-align: right;\">\n",
       "      <th></th>\n",
       "      <th>Ticker</th>\n",
       "      <th>SimFinId</th>\n",
       "      <th>Date</th>\n",
       "      <th>Open</th>\n",
       "      <th>High</th>\n",
       "      <th>Low</th>\n",
       "      <th>Close</th>\n",
       "      <th>Adj. Close</th>\n",
       "      <th>Volume</th>\n",
       "      <th>Dividend</th>\n",
       "      <th>Shares Outstanding</th>\n",
       "    </tr>\n",
       "  </thead>\n",
       "  <tbody>\n",
       "    <tr>\n",
       "      <th>0</th>\n",
       "      <td>A</td>\n",
       "      <td>45846</td>\n",
       "      <td>2019-04-01</td>\n",
       "      <td>80.96</td>\n",
       "      <td>81.77</td>\n",
       "      <td>80.96</td>\n",
       "      <td>81.56</td>\n",
       "      <td>78.33</td>\n",
       "      <td>1522681</td>\n",
       "      <td>0.16</td>\n",
       "      <td>317515869.0</td>\n",
       "    </tr>\n",
       "    <tr>\n",
       "      <th>1</th>\n",
       "      <td>A</td>\n",
       "      <td>45846</td>\n",
       "      <td>2019-04-02</td>\n",
       "      <td>81.71</td>\n",
       "      <td>81.76</td>\n",
       "      <td>81.03</td>\n",
       "      <td>81.14</td>\n",
       "      <td>77.93</td>\n",
       "      <td>1203037</td>\n",
       "      <td>NaN</td>\n",
       "      <td>317515869.0</td>\n",
       "    </tr>\n",
       "    <tr>\n",
       "      <th>2</th>\n",
       "      <td>A</td>\n",
       "      <td>45846</td>\n",
       "      <td>2019-04-03</td>\n",
       "      <td>81.54</td>\n",
       "      <td>82.02</td>\n",
       "      <td>81.46</td>\n",
       "      <td>81.94</td>\n",
       "      <td>78.70</td>\n",
       "      <td>2141025</td>\n",
       "      <td>NaN</td>\n",
       "      <td>317515869.0</td>\n",
       "    </tr>\n",
       "    <tr>\n",
       "      <th>3</th>\n",
       "      <td>A</td>\n",
       "      <td>45846</td>\n",
       "      <td>2019-04-04</td>\n",
       "      <td>81.84</td>\n",
       "      <td>82.05</td>\n",
       "      <td>80.44</td>\n",
       "      <td>80.83</td>\n",
       "      <td>77.63</td>\n",
       "      <td>2180112</td>\n",
       "      <td>NaN</td>\n",
       "      <td>317515869.0</td>\n",
       "    </tr>\n",
       "    <tr>\n",
       "      <th>4</th>\n",
       "      <td>A</td>\n",
       "      <td>45846</td>\n",
       "      <td>2019-04-05</td>\n",
       "      <td>81.19</td>\n",
       "      <td>81.92</td>\n",
       "      <td>81.05</td>\n",
       "      <td>81.47</td>\n",
       "      <td>78.25</td>\n",
       "      <td>1502875</td>\n",
       "      <td>NaN</td>\n",
       "      <td>317515869.0</td>\n",
       "    </tr>\n",
       "  </tbody>\n",
       "</table>\n",
       "</div>"
      ],
      "text/plain": [
       "  Ticker  SimFinId        Date   Open   High    Low  Close  Adj. Close  \\\n",
       "0      A     45846  2019-04-01  80.96  81.77  80.96  81.56       78.33   \n",
       "1      A     45846  2019-04-02  81.71  81.76  81.03  81.14       77.93   \n",
       "2      A     45846  2019-04-03  81.54  82.02  81.46  81.94       78.70   \n",
       "3      A     45846  2019-04-04  81.84  82.05  80.44  80.83       77.63   \n",
       "4      A     45846  2019-04-05  81.19  81.92  81.05  81.47       78.25   \n",
       "\n",
       "    Volume  Dividend  Shares Outstanding  \n",
       "0  1522681      0.16         317515869.0  \n",
       "1  1203037       NaN         317515869.0  \n",
       "2  2141025       NaN         317515869.0  \n",
       "3  2180112       NaN         317515869.0  \n",
       "4  1502875       NaN         317515869.0  "
      ]
     },
     "execution_count": 29,
     "metadata": {},
     "output_type": "execute_result"
    }
   ],
   "source": [
    "prices.head()"
   ]
  },
  {
   "cell_type": "markdown",
   "metadata": {},
   "source": [
    "**Checking in specific company:**"
   ]
  },
  {
   "cell_type": "code",
   "execution_count": 39,
   "metadata": {},
   "outputs": [
    {
     "data": {
      "text/plain": [
       "Ticker                0.000000\n",
       "SimFinId              0.000000\n",
       "Date                  0.000000\n",
       "Open                  0.000000\n",
       "High                  0.000000\n",
       "Low                   0.000000\n",
       "Close                 0.000000\n",
       "Adj. Close            0.000000\n",
       "Volume                0.000000\n",
       "Dividend              0.983858\n",
       "Shares Outstanding    0.000000\n",
       "dtype: float64"
      ]
     },
     "execution_count": 39,
     "metadata": {},
     "output_type": "execute_result"
    }
   ],
   "source": [
    "prices_bruker.isna().sum() / len(prices_bruker)"
   ]
  },
  {
   "cell_type": "markdown",
   "metadata": {},
   "source": [
    "Conclusion: The only missing values are dividends, which are not paid out all the time. We can assume they equal 0 when they are missing."
   ]
  },
  {
   "cell_type": "markdown",
   "metadata": {},
   "source": [
    "<a id='3'></a>\n",
    "## Step 3 - Imputing/dropping missing values"
   ]
  },
  {
   "cell_type": "code",
   "execution_count": 44,
   "metadata": {},
   "outputs": [
    {
     "name": "stderr",
     "output_type": "stream",
     "text": [
      "/var/folders/9n/822nl7nj22lg267k4mhz7kw40000gn/T/ipykernel_86059/902796419.py:1: SettingWithCopyWarning: \n",
      "A value is trying to be set on a copy of a slice from a DataFrame.\n",
      "Try using .loc[row_indexer,col_indexer] = value instead\n",
      "\n",
      "See the caveats in the documentation: https://pandas.pydata.org/pandas-docs/stable/user_guide/indexing.html#returning-a-view-versus-a-copy\n",
      "  prices_bruker[\"Dividend\"] = prices_bruker[\"Dividend\"].fillna(0)\n"
     ]
    }
   ],
   "source": [
    "prices_bruker[\"Dividend\"] = prices_bruker[\"Dividend\"].fillna(0)"
   ]
  },
  {
   "cell_type": "code",
   "execution_count": 48,
   "metadata": {},
   "outputs": [
    {
     "data": {
      "text/plain": [
       "array([0.  , 0.04, 0.05])"
      ]
     },
     "execution_count": 48,
     "metadata": {},
     "output_type": "execute_result"
    }
   ],
   "source": [
    "prices_bruker.Dividend.unique()"
   ]
  },
  {
   "cell_type": "code",
   "execution_count": 47,
   "metadata": {},
   "outputs": [
    {
     "data": {
      "text/plain": [
       "Ticker                0.0\n",
       "SimFinId              0.0\n",
       "Date                  0.0\n",
       "Open                  0.0\n",
       "High                  0.0\n",
       "Low                   0.0\n",
       "Close                 0.0\n",
       "Adj. Close            0.0\n",
       "Volume                0.0\n",
       "Dividend              0.0\n",
       "Shares Outstanding    0.0\n",
       "dtype: float64"
      ]
     },
     "execution_count": 47,
     "metadata": {},
     "output_type": "execute_result"
    }
   ],
   "source": [
    "prices_bruker.isna().sum() / len(prices_bruker)"
   ]
  },
  {
   "cell_type": "markdown",
   "metadata": {},
   "source": [
    "Conclusion: No missing values anymore."
   ]
  },
  {
   "cell_type": "markdown",
   "metadata": {},
   "source": [
    "<a id='4'></a>\n",
    "## Step 4 - Ensuring correct datatypes"
   ]
  },
  {
   "cell_type": "code",
   "execution_count": null,
   "metadata": {},
   "outputs": [],
   "source": [
    "#hello"
   ]
  },
  {
   "cell_type": "markdown",
   "metadata": {},
   "source": [
    "<a id='5'></a>\n",
    "## Step 5 - Preparation for merging"
   ]
  },
  {
   "cell_type": "code",
   "execution_count": null,
   "metadata": {},
   "outputs": [],
   "source": []
  }
 ],
 "metadata": {
  "kernelspec": {
   "display_name": "base",
   "language": "python",
   "name": "python3"
  },
  "language_info": {
   "codemirror_mode": {
    "name": "ipython",
    "version": 3
   },
   "file_extension": ".py",
   "mimetype": "text/x-python",
   "name": "python",
   "nbconvert_exporter": "python",
   "pygments_lexer": "ipython3",
   "version": "3.12.2"
  }
 },
 "nbformat": 4,
 "nbformat_minor": 2
}
