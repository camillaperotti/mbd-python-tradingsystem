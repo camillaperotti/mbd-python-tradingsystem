{
 "cells": [
  {
   "cell_type": "markdown",
   "metadata": {},
   "source": [
    "# Company1 - ETL Process"
   ]
  },
  {
   "cell_type": "markdown",
   "metadata": {},
   "source": [
    "This notebook is organized in the following sections:\n",
    "* [Step 0 - Preliminary: Viewing the data](#0)\n",
    "* [Step 1 - Checking for duplicates](#1)\n",
    "* [Step 2 - Checking for missing values](#2)\n",
    "* [Step 3 - Imputing/dropping missing values](#3)\n",
    "* [Step 4 - Ensuring Correct Datatypes](#4)\n",
    "* [Step 5 - Preparation for merging](#5)\n"
   ]
  },
  {
   "cell_type": "markdown",
   "metadata": {},
   "source": [
    "<a id='0'></a>\n",
    "## Step 0 - Preliminary: Viewing the data"
   ]
  },
  {
   "cell_type": "code",
   "execution_count": 2,
   "metadata": {},
   "outputs": [],
   "source": [
    "import pandas as pd"
   ]
  },
  {
   "cell_type": "code",
   "execution_count": 3,
   "metadata": {},
   "outputs": [],
   "source": [
    "# Load the share prices csv\n",
    "\n",
    "prices = pd.read_csv(\"data/us-shareprices-daily.csv\",delimiter=';')"
   ]
  },
  {
   "cell_type": "code",
   "execution_count": 4,
   "metadata": {},
   "outputs": [
    {
     "data": {
      "text/html": [
       "<div>\n",
       "<style scoped>\n",
       "    .dataframe tbody tr th:only-of-type {\n",
       "        vertical-align: middle;\n",
       "    }\n",
       "\n",
       "    .dataframe tbody tr th {\n",
       "        vertical-align: top;\n",
       "    }\n",
       "\n",
       "    .dataframe thead th {\n",
       "        text-align: right;\n",
       "    }\n",
       "</style>\n",
       "<table border=\"1\" class=\"dataframe\">\n",
       "  <thead>\n",
       "    <tr style=\"text-align: right;\">\n",
       "      <th></th>\n",
       "      <th>Ticker</th>\n",
       "      <th>SimFinId</th>\n",
       "      <th>Date</th>\n",
       "      <th>Open</th>\n",
       "      <th>High</th>\n",
       "      <th>Low</th>\n",
       "      <th>Close</th>\n",
       "      <th>Adj. Close</th>\n",
       "      <th>Volume</th>\n",
       "      <th>Dividend</th>\n",
       "      <th>Shares Outstanding</th>\n",
       "    </tr>\n",
       "  </thead>\n",
       "  <tbody>\n",
       "    <tr>\n",
       "      <th>5767354</th>\n",
       "      <td>ZYXI</td>\n",
       "      <td>171401</td>\n",
       "      <td>2024-02-26</td>\n",
       "      <td>13.04</td>\n",
       "      <td>13.04</td>\n",
       "      <td>12.67</td>\n",
       "      <td>12.82</td>\n",
       "      <td>12.82</td>\n",
       "      <td>335055</td>\n",
       "      <td>NaN</td>\n",
       "      <td>36435000.0</td>\n",
       "    </tr>\n",
       "    <tr>\n",
       "      <th>5767355</th>\n",
       "      <td>ZYXI</td>\n",
       "      <td>171401</td>\n",
       "      <td>2024-02-27</td>\n",
       "      <td>12.83</td>\n",
       "      <td>13.77</td>\n",
       "      <td>12.83</td>\n",
       "      <td>13.74</td>\n",
       "      <td>13.74</td>\n",
       "      <td>395525</td>\n",
       "      <td>NaN</td>\n",
       "      <td>36435000.0</td>\n",
       "    </tr>\n",
       "    <tr>\n",
       "      <th>5767356</th>\n",
       "      <td>ZYXI</td>\n",
       "      <td>171401</td>\n",
       "      <td>2024-02-28</td>\n",
       "      <td>13.63</td>\n",
       "      <td>13.70</td>\n",
       "      <td>13.38</td>\n",
       "      <td>13.49</td>\n",
       "      <td>13.49</td>\n",
       "      <td>290887</td>\n",
       "      <td>NaN</td>\n",
       "      <td>32170182.0</td>\n",
       "    </tr>\n",
       "    <tr>\n",
       "      <th>5767357</th>\n",
       "      <td>ZYXI</td>\n",
       "      <td>171401</td>\n",
       "      <td>2024-02-29</td>\n",
       "      <td>13.51</td>\n",
       "      <td>13.57</td>\n",
       "      <td>13.28</td>\n",
       "      <td>13.56</td>\n",
       "      <td>13.56</td>\n",
       "      <td>232534</td>\n",
       "      <td>NaN</td>\n",
       "      <td>32170182.0</td>\n",
       "    </tr>\n",
       "    <tr>\n",
       "      <th>5767358</th>\n",
       "      <td>ZYXI</td>\n",
       "      <td>171401</td>\n",
       "      <td>2024-03-01</td>\n",
       "      <td>12.05</td>\n",
       "      <td>13.43</td>\n",
       "      <td>12.00</td>\n",
       "      <td>12.30</td>\n",
       "      <td>12.30</td>\n",
       "      <td>1216112</td>\n",
       "      <td>NaN</td>\n",
       "      <td>32170182.0</td>\n",
       "    </tr>\n",
       "  </tbody>\n",
       "</table>\n",
       "</div>"
      ],
      "text/plain": [
       "        Ticker  SimFinId        Date   Open   High    Low  Close  Adj. Close  \\\n",
       "5767354   ZYXI    171401  2024-02-26  13.04  13.04  12.67  12.82       12.82   \n",
       "5767355   ZYXI    171401  2024-02-27  12.83  13.77  12.83  13.74       13.74   \n",
       "5767356   ZYXI    171401  2024-02-28  13.63  13.70  13.38  13.49       13.49   \n",
       "5767357   ZYXI    171401  2024-02-29  13.51  13.57  13.28  13.56       13.56   \n",
       "5767358   ZYXI    171401  2024-03-01  12.05  13.43  12.00  12.30       12.30   \n",
       "\n",
       "          Volume  Dividend  Shares Outstanding  \n",
       "5767354   335055       NaN          36435000.0  \n",
       "5767355   395525       NaN          36435000.0  \n",
       "5767356   290887       NaN          32170182.0  \n",
       "5767357   232534       NaN          32170182.0  \n",
       "5767358  1216112       NaN          32170182.0  "
      ]
     },
     "execution_count": 4,
     "metadata": {},
     "output_type": "execute_result"
    }
   ],
   "source": [
    "prices.tail()"
   ]
  },
  {
   "cell_type": "code",
   "execution_count": 5,
   "metadata": {},
   "outputs": [],
   "source": [
    "# Load the companies csv \n",
    "companies = pd.read_csv(\"data/us-companies.csv\",delimiter=';')"
   ]
  },
  {
   "cell_type": "markdown",
   "metadata": {},
   "source": [
    "Selecting a company:"
   ]
  },
  {
   "cell_type": "code",
   "execution_count": 6,
   "metadata": {},
   "outputs": [
    {
     "data": {
      "text/html": [
       "<div>\n",
       "<style scoped>\n",
       "    .dataframe tbody tr th:only-of-type {\n",
       "        vertical-align: middle;\n",
       "    }\n",
       "\n",
       "    .dataframe tbody tr th {\n",
       "        vertical-align: top;\n",
       "    }\n",
       "\n",
       "    .dataframe thead th {\n",
       "        text-align: right;\n",
       "    }\n",
       "</style>\n",
       "<table border=\"1\" class=\"dataframe\">\n",
       "  <thead>\n",
       "    <tr style=\"text-align: right;\">\n",
       "      <th></th>\n",
       "      <th>Ticker</th>\n",
       "      <th>SimFinId</th>\n",
       "      <th>Company Name</th>\n",
       "      <th>IndustryId</th>\n",
       "      <th>ISIN</th>\n",
       "      <th>End of financial year (month)</th>\n",
       "      <th>Number Employees</th>\n",
       "      <th>Business Summary</th>\n",
       "      <th>Market</th>\n",
       "      <th>CIK</th>\n",
       "      <th>Main Currency</th>\n",
       "    </tr>\n",
       "  </thead>\n",
       "  <tbody>\n",
       "    <tr>\n",
       "      <th>3650</th>\n",
       "      <td>MSFT</td>\n",
       "      <td>59265</td>\n",
       "      <td>MICROSOFT CORP</td>\n",
       "      <td>101003.0</td>\n",
       "      <td>US5949181045</td>\n",
       "      <td>6.0</td>\n",
       "      <td>166475.0</td>\n",
       "      <td>Microsoft Corp is a technology company. It dev...</td>\n",
       "      <td>us</td>\n",
       "      <td>789019.0</td>\n",
       "      <td>USD</td>\n",
       "    </tr>\n",
       "  </tbody>\n",
       "</table>\n",
       "</div>"
      ],
      "text/plain": [
       "     Ticker  SimFinId    Company Name  IndustryId          ISIN  \\\n",
       "3650   MSFT     59265  MICROSOFT CORP    101003.0  US5949181045   \n",
       "\n",
       "      End of financial year (month)  Number Employees  \\\n",
       "3650                            6.0          166475.0   \n",
       "\n",
       "                                       Business Summary Market       CIK  \\\n",
       "3650  Microsoft Corp is a technology company. It dev...     us  789019.0   \n",
       "\n",
       "     Main Currency  \n",
       "3650           USD  "
      ]
     },
     "execution_count": 6,
     "metadata": {},
     "output_type": "execute_result"
    }
   ],
   "source": [
    "company_bruker = companies[companies[\"Company Name\"] == \"MICROSOFT CORP\"]\n",
    "company_bruker = company_bruker.copy()\n",
    "company_bruker"
   ]
  },
  {
   "cell_type": "code",
   "execution_count": 8,
   "metadata": {},
   "outputs": [
    {
     "data": {
      "text/plain": [
       "array(['AAPL', 'ABT', 'BRKR', 'MSFT', 'TSLA'], dtype=object)"
      ]
     },
     "execution_count": 8,
     "metadata": {},
     "output_type": "execute_result"
    }
   ],
   "source": [
    "prices = prices[prices[\"SimFinId\"].isin([1253240, 111052, 63877,56317, 59265])]\n",
    "prices = prices.copy()\n",
    "prices.Ticker.unique()"
   ]
  },
  {
   "cell_type": "markdown",
   "metadata": {},
   "source": [
    "<a id='1'></a>\n",
    "## Step 1 - Checking for duplicates"
   ]
  },
  {
   "cell_type": "code",
   "execution_count": 9,
   "metadata": {},
   "outputs": [
    {
     "data": {
      "text/plain": [
       "False"
      ]
     },
     "execution_count": 9,
     "metadata": {},
     "output_type": "execute_result"
    }
   ],
   "source": [
    "#Check for share prices\n",
    "\n",
    "prices.duplicated().any()"
   ]
  },
  {
   "cell_type": "code",
   "execution_count": 10,
   "metadata": {},
   "outputs": [
    {
     "data": {
      "text/plain": [
       "False"
      ]
     },
     "execution_count": 10,
     "metadata": {},
     "output_type": "execute_result"
    }
   ],
   "source": [
    "# Check for companies \n",
    "\n",
    "companies.duplicated().any()"
   ]
  },
  {
   "cell_type": "markdown",
   "metadata": {},
   "source": [
    "Conclusion: There are no duplicate values."
   ]
  },
  {
   "cell_type": "markdown",
   "metadata": {},
   "source": [
    "<a id='2'></a>\n",
    "## Step 2 - Checking for missing values"
   ]
  },
  {
   "cell_type": "markdown",
   "metadata": {},
   "source": [
    "**Checking in specific company:**"
   ]
  },
  {
   "cell_type": "code",
   "execution_count": 12,
   "metadata": {},
   "outputs": [
    {
     "data": {
      "text/plain": [
       "Ticker                0.000000\n",
       "SimFinId              0.000000\n",
       "Date                  0.000000\n",
       "Open                  0.000000\n",
       "High                  0.000000\n",
       "Low                   0.000000\n",
       "Close                 0.000000\n",
       "Adj. Close            0.000000\n",
       "Volume                0.000000\n",
       "Dividend              0.987086\n",
       "Shares Outstanding    0.000000\n",
       "dtype: float64"
      ]
     },
     "execution_count": 12,
     "metadata": {},
     "output_type": "execute_result"
    }
   ],
   "source": [
    "prices.isna().sum() / len(prices)"
   ]
  },
  {
   "cell_type": "markdown",
   "metadata": {},
   "source": [
    "Conclusion: The only missing values are dividends in the prices df, which are not paid out all the time. We can assume they equal 0 when they are missing."
   ]
  },
  {
   "cell_type": "markdown",
   "metadata": {},
   "source": [
    "<a id='3'></a>\n",
    "## Step 3 - Imputing/dropping missing values"
   ]
  },
  {
   "cell_type": "code",
   "execution_count": 14,
   "metadata": {},
   "outputs": [],
   "source": [
    "prices[\"Dividend\"] = prices[\"Dividend\"].fillna(0)"
   ]
  },
  {
   "cell_type": "code",
   "execution_count": 15,
   "metadata": {},
   "outputs": [
    {
     "data": {
      "text/plain": [
       "array([0.  , 0.19, 0.2 , 0.22, 0.23, 0.24, 0.32, 0.36, 0.45, 0.47, 0.51,\n",
       "       0.55, 0.04, 0.05, 0.46, 0.56, 0.62, 0.68, 0.75])"
      ]
     },
     "execution_count": 15,
     "metadata": {},
     "output_type": "execute_result"
    }
   ],
   "source": [
    "prices.Dividend.unique()"
   ]
  },
  {
   "cell_type": "code",
   "execution_count": 25,
   "metadata": {},
   "outputs": [
    {
     "data": {
      "text/plain": [
       "Ticker                0.0\n",
       "SimFinId              0.0\n",
       "Date                  0.0\n",
       "Open                  0.0\n",
       "High                  0.0\n",
       "Low                   0.0\n",
       "Close                 0.0\n",
       "Adj. Close            0.0\n",
       "Volume                0.0\n",
       "Dividend              0.0\n",
       "Shares Outstanding    0.0\n",
       "dtype: float64"
      ]
     },
     "execution_count": 25,
     "metadata": {},
     "output_type": "execute_result"
    }
   ],
   "source": [
    "prices.isna().sum() / len(prices)"
   ]
  },
  {
   "cell_type": "markdown",
   "metadata": {},
   "source": [
    "Conclusion: No missing values anymore."
   ]
  },
  {
   "cell_type": "markdown",
   "metadata": {},
   "source": [
    "<a id='4'></a>\n",
    "## Step 4 - Ensuring correct datatypes"
   ]
  },
  {
   "cell_type": "code",
   "execution_count": 17,
   "metadata": {},
   "outputs": [
    {
     "name": "stdout",
     "output_type": "stream",
     "text": [
      "<class 'pandas.core.frame.DataFrame'>\n",
      "Index: 6195 entries, 14253 to 5192437\n",
      "Data columns (total 11 columns):\n",
      " #   Column              Non-Null Count  Dtype  \n",
      "---  ------              --------------  -----  \n",
      " 0   Ticker              6195 non-null   object \n",
      " 1   SimFinId            6195 non-null   int64  \n",
      " 2   Date                6195 non-null   object \n",
      " 3   Open                6195 non-null   float64\n",
      " 4   High                6195 non-null   float64\n",
      " 5   Low                 6195 non-null   float64\n",
      " 6   Close               6195 non-null   float64\n",
      " 7   Adj. Close          6195 non-null   float64\n",
      " 8   Volume              6195 non-null   int64  \n",
      " 9   Dividend            6195 non-null   float64\n",
      " 10  Shares Outstanding  6195 non-null   float64\n",
      "dtypes: float64(7), int64(2), object(2)\n",
      "memory usage: 580.8+ KB\n"
     ]
    }
   ],
   "source": [
    "prices.info()\n"
   ]
  },
  {
   "cell_type": "code",
   "execution_count": 18,
   "metadata": {},
   "outputs": [
    {
     "data": {
      "text/html": [
       "<div>\n",
       "<style scoped>\n",
       "    .dataframe tbody tr th:only-of-type {\n",
       "        vertical-align: middle;\n",
       "    }\n",
       "\n",
       "    .dataframe tbody tr th {\n",
       "        vertical-align: top;\n",
       "    }\n",
       "\n",
       "    .dataframe thead th {\n",
       "        text-align: right;\n",
       "    }\n",
       "</style>\n",
       "<table border=\"1\" class=\"dataframe\">\n",
       "  <thead>\n",
       "    <tr style=\"text-align: right;\">\n",
       "      <th></th>\n",
       "      <th>Ticker</th>\n",
       "      <th>SimFinId</th>\n",
       "      <th>Date</th>\n",
       "      <th>Open</th>\n",
       "      <th>High</th>\n",
       "      <th>Low</th>\n",
       "      <th>Close</th>\n",
       "      <th>Adj. Close</th>\n",
       "      <th>Volume</th>\n",
       "      <th>Dividend</th>\n",
       "      <th>Shares Outstanding</th>\n",
       "    </tr>\n",
       "  </thead>\n",
       "  <tbody>\n",
       "    <tr>\n",
       "      <th>14253</th>\n",
       "      <td>AAPL</td>\n",
       "      <td>111052</td>\n",
       "      <td>2019-04-01</td>\n",
       "      <td>47.91</td>\n",
       "      <td>47.92</td>\n",
       "      <td>47.09</td>\n",
       "      <td>47.81</td>\n",
       "      <td>45.81</td>\n",
       "      <td>111447856</td>\n",
       "      <td>0.0</td>\n",
       "      <td>1.842914e+10</td>\n",
       "    </tr>\n",
       "    <tr>\n",
       "      <th>14254</th>\n",
       "      <td>AAPL</td>\n",
       "      <td>111052</td>\n",
       "      <td>2019-04-02</td>\n",
       "      <td>47.77</td>\n",
       "      <td>48.62</td>\n",
       "      <td>47.76</td>\n",
       "      <td>48.51</td>\n",
       "      <td>46.47</td>\n",
       "      <td>91062928</td>\n",
       "      <td>0.0</td>\n",
       "      <td>1.842914e+10</td>\n",
       "    </tr>\n",
       "    <tr>\n",
       "      <th>14255</th>\n",
       "      <td>AAPL</td>\n",
       "      <td>111052</td>\n",
       "      <td>2019-04-03</td>\n",
       "      <td>48.31</td>\n",
       "      <td>49.12</td>\n",
       "      <td>48.29</td>\n",
       "      <td>48.84</td>\n",
       "      <td>46.79</td>\n",
       "      <td>93087320</td>\n",
       "      <td>0.0</td>\n",
       "      <td>1.842914e+10</td>\n",
       "    </tr>\n",
       "    <tr>\n",
       "      <th>14256</th>\n",
       "      <td>AAPL</td>\n",
       "      <td>111052</td>\n",
       "      <td>2019-04-04</td>\n",
       "      <td>48.70</td>\n",
       "      <td>49.09</td>\n",
       "      <td>48.28</td>\n",
       "      <td>48.92</td>\n",
       "      <td>46.87</td>\n",
       "      <td>76457100</td>\n",
       "      <td>0.0</td>\n",
       "      <td>1.842914e+10</td>\n",
       "    </tr>\n",
       "    <tr>\n",
       "      <th>14257</th>\n",
       "      <td>AAPL</td>\n",
       "      <td>111052</td>\n",
       "      <td>2019-04-05</td>\n",
       "      <td>49.11</td>\n",
       "      <td>49.27</td>\n",
       "      <td>48.98</td>\n",
       "      <td>49.25</td>\n",
       "      <td>47.19</td>\n",
       "      <td>74106576</td>\n",
       "      <td>0.0</td>\n",
       "      <td>1.842914e+10</td>\n",
       "    </tr>\n",
       "    <tr>\n",
       "      <th>...</th>\n",
       "      <td>...</td>\n",
       "      <td>...</td>\n",
       "      <td>...</td>\n",
       "      <td>...</td>\n",
       "      <td>...</td>\n",
       "      <td>...</td>\n",
       "      <td>...</td>\n",
       "      <td>...</td>\n",
       "      <td>...</td>\n",
       "      <td>...</td>\n",
       "      <td>...</td>\n",
       "    </tr>\n",
       "    <tr>\n",
       "      <th>5192433</th>\n",
       "      <td>TSLA</td>\n",
       "      <td>56317</td>\n",
       "      <td>2024-02-26</td>\n",
       "      <td>192.29</td>\n",
       "      <td>201.78</td>\n",
       "      <td>192.00</td>\n",
       "      <td>199.40</td>\n",
       "      <td>199.40</td>\n",
       "      <td>111747116</td>\n",
       "      <td>0.0</td>\n",
       "      <td>3.184790e+09</td>\n",
       "    </tr>\n",
       "    <tr>\n",
       "      <th>5192434</th>\n",
       "      <td>TSLA</td>\n",
       "      <td>56317</td>\n",
       "      <td>2024-02-27</td>\n",
       "      <td>204.04</td>\n",
       "      <td>205.60</td>\n",
       "      <td>198.26</td>\n",
       "      <td>199.73</td>\n",
       "      <td>199.73</td>\n",
       "      <td>108645412</td>\n",
       "      <td>0.0</td>\n",
       "      <td>3.184790e+09</td>\n",
       "    </tr>\n",
       "    <tr>\n",
       "      <th>5192435</th>\n",
       "      <td>TSLA</td>\n",
       "      <td>56317</td>\n",
       "      <td>2024-02-28</td>\n",
       "      <td>200.42</td>\n",
       "      <td>205.30</td>\n",
       "      <td>198.44</td>\n",
       "      <td>202.04</td>\n",
       "      <td>202.04</td>\n",
       "      <td>99806173</td>\n",
       "      <td>0.0</td>\n",
       "      <td>3.184790e+09</td>\n",
       "    </tr>\n",
       "    <tr>\n",
       "      <th>5192436</th>\n",
       "      <td>TSLA</td>\n",
       "      <td>56317</td>\n",
       "      <td>2024-02-29</td>\n",
       "      <td>204.18</td>\n",
       "      <td>205.28</td>\n",
       "      <td>198.45</td>\n",
       "      <td>201.88</td>\n",
       "      <td>201.88</td>\n",
       "      <td>85906974</td>\n",
       "      <td>0.0</td>\n",
       "      <td>3.184790e+09</td>\n",
       "    </tr>\n",
       "    <tr>\n",
       "      <th>5192437</th>\n",
       "      <td>TSLA</td>\n",
       "      <td>56317</td>\n",
       "      <td>2024-03-01</td>\n",
       "      <td>200.52</td>\n",
       "      <td>204.52</td>\n",
       "      <td>198.50</td>\n",
       "      <td>202.64</td>\n",
       "      <td>202.64</td>\n",
       "      <td>82243119</td>\n",
       "      <td>0.0</td>\n",
       "      <td>3.184790e+09</td>\n",
       "    </tr>\n",
       "  </tbody>\n",
       "</table>\n",
       "<p>6195 rows × 11 columns</p>\n",
       "</div>"
      ],
      "text/plain": [
       "        Ticker  SimFinId        Date    Open    High     Low   Close  \\\n",
       "14253     AAPL    111052  2019-04-01   47.91   47.92   47.09   47.81   \n",
       "14254     AAPL    111052  2019-04-02   47.77   48.62   47.76   48.51   \n",
       "14255     AAPL    111052  2019-04-03   48.31   49.12   48.29   48.84   \n",
       "14256     AAPL    111052  2019-04-04   48.70   49.09   48.28   48.92   \n",
       "14257     AAPL    111052  2019-04-05   49.11   49.27   48.98   49.25   \n",
       "...        ...       ...         ...     ...     ...     ...     ...   \n",
       "5192433   TSLA     56317  2024-02-26  192.29  201.78  192.00  199.40   \n",
       "5192434   TSLA     56317  2024-02-27  204.04  205.60  198.26  199.73   \n",
       "5192435   TSLA     56317  2024-02-28  200.42  205.30  198.44  202.04   \n",
       "5192436   TSLA     56317  2024-02-29  204.18  205.28  198.45  201.88   \n",
       "5192437   TSLA     56317  2024-03-01  200.52  204.52  198.50  202.64   \n",
       "\n",
       "         Adj. Close     Volume  Dividend  Shares Outstanding  \n",
       "14253         45.81  111447856       0.0        1.842914e+10  \n",
       "14254         46.47   91062928       0.0        1.842914e+10  \n",
       "14255         46.79   93087320       0.0        1.842914e+10  \n",
       "14256         46.87   76457100       0.0        1.842914e+10  \n",
       "14257         47.19   74106576       0.0        1.842914e+10  \n",
       "...             ...        ...       ...                 ...  \n",
       "5192433      199.40  111747116       0.0        3.184790e+09  \n",
       "5192434      199.73  108645412       0.0        3.184790e+09  \n",
       "5192435      202.04   99806173       0.0        3.184790e+09  \n",
       "5192436      201.88   85906974       0.0        3.184790e+09  \n",
       "5192437      202.64   82243119       0.0        3.184790e+09  \n",
       "\n",
       "[6195 rows x 11 columns]"
      ]
     },
     "execution_count": 18,
     "metadata": {},
     "output_type": "execute_result"
    }
   ],
   "source": [
    "prices"
   ]
  },
  {
   "cell_type": "markdown",
   "metadata": {},
   "source": [
    "We see there are is a float64 which might be cleaner to format as int64 (Shares Outstanding) Let's double check, we'll do this for the whole dataset."
   ]
  },
  {
   "cell_type": "code",
   "execution_count": 19,
   "metadata": {},
   "outputs": [
    {
     "data": {
      "text/plain": [
       "array([], dtype=float64)"
      ]
     },
     "execution_count": 19,
     "metadata": {},
     "output_type": "execute_result"
    }
   ],
   "source": [
    "prices[prices[\"Shares Outstanding\"] % 1 != 0][\"Shares Outstanding\"].unique()"
   ]
  },
  {
   "cell_type": "markdown",
   "metadata": {},
   "source": [
    "We see there are some float64 which might be cleaner to format as int64, column headers such as ID's, which can only be full numbers. Let's double check, we'll do this for the whole dataset."
   ]
  },
  {
   "cell_type": "markdown",
   "metadata": {},
   "source": [
    "Conclusion:\n",
    "- prices_bruker: date column is object and not date format, will be changed + \"Shares Outstanding\" can be changed to int"
   ]
  },
  {
   "cell_type": "code",
   "execution_count": 21,
   "metadata": {},
   "outputs": [],
   "source": [
    "# for prices_bruker\n",
    "\n",
    "prices[\"Shares Outstanding\"] =  prices[\"Shares Outstanding\"].astype(int)\n",
    "prices[\"Date\"] = pd.to_datetime(prices.Date, format=\"%Y-%m-%d\")"
   ]
  },
  {
   "cell_type": "markdown",
   "metadata": {},
   "source": [
    "<a id='5'></a>\n",
    "## Step 5 - Load csv for ML preparation"
   ]
  },
  {
   "cell_type": "code",
   "execution_count": 24,
   "metadata": {},
   "outputs": [
    {
     "data": {
      "text/html": [
       "<div>\n",
       "<style scoped>\n",
       "    .dataframe tbody tr th:only-of-type {\n",
       "        vertical-align: middle;\n",
       "    }\n",
       "\n",
       "    .dataframe tbody tr th {\n",
       "        vertical-align: top;\n",
       "    }\n",
       "\n",
       "    .dataframe thead th {\n",
       "        text-align: right;\n",
       "    }\n",
       "</style>\n",
       "<table border=\"1\" class=\"dataframe\">\n",
       "  <thead>\n",
       "    <tr style=\"text-align: right;\">\n",
       "      <th></th>\n",
       "      <th>Ticker</th>\n",
       "      <th>SimFinId</th>\n",
       "      <th>Date</th>\n",
       "      <th>Open</th>\n",
       "      <th>High</th>\n",
       "      <th>Low</th>\n",
       "      <th>Close</th>\n",
       "      <th>Adj. Close</th>\n",
       "      <th>Volume</th>\n",
       "      <th>Dividend</th>\n",
       "      <th>Shares Outstanding</th>\n",
       "    </tr>\n",
       "  </thead>\n",
       "  <tbody>\n",
       "    <tr>\n",
       "      <th>14253</th>\n",
       "      <td>AAPL</td>\n",
       "      <td>111052</td>\n",
       "      <td>2019-04-01</td>\n",
       "      <td>47.91</td>\n",
       "      <td>47.92</td>\n",
       "      <td>47.09</td>\n",
       "      <td>47.81</td>\n",
       "      <td>45.81</td>\n",
       "      <td>111447856</td>\n",
       "      <td>0.0</td>\n",
       "      <td>18429136000</td>\n",
       "    </tr>\n",
       "    <tr>\n",
       "      <th>14254</th>\n",
       "      <td>AAPL</td>\n",
       "      <td>111052</td>\n",
       "      <td>2019-04-02</td>\n",
       "      <td>47.77</td>\n",
       "      <td>48.62</td>\n",
       "      <td>47.76</td>\n",
       "      <td>48.51</td>\n",
       "      <td>46.47</td>\n",
       "      <td>91062928</td>\n",
       "      <td>0.0</td>\n",
       "      <td>18429136000</td>\n",
       "    </tr>\n",
       "    <tr>\n",
       "      <th>14255</th>\n",
       "      <td>AAPL</td>\n",
       "      <td>111052</td>\n",
       "      <td>2019-04-03</td>\n",
       "      <td>48.31</td>\n",
       "      <td>49.12</td>\n",
       "      <td>48.29</td>\n",
       "      <td>48.84</td>\n",
       "      <td>46.79</td>\n",
       "      <td>93087320</td>\n",
       "      <td>0.0</td>\n",
       "      <td>18429136000</td>\n",
       "    </tr>\n",
       "    <tr>\n",
       "      <th>14256</th>\n",
       "      <td>AAPL</td>\n",
       "      <td>111052</td>\n",
       "      <td>2019-04-04</td>\n",
       "      <td>48.70</td>\n",
       "      <td>49.09</td>\n",
       "      <td>48.28</td>\n",
       "      <td>48.92</td>\n",
       "      <td>46.87</td>\n",
       "      <td>76457100</td>\n",
       "      <td>0.0</td>\n",
       "      <td>18429136000</td>\n",
       "    </tr>\n",
       "    <tr>\n",
       "      <th>14257</th>\n",
       "      <td>AAPL</td>\n",
       "      <td>111052</td>\n",
       "      <td>2019-04-05</td>\n",
       "      <td>49.11</td>\n",
       "      <td>49.27</td>\n",
       "      <td>48.98</td>\n",
       "      <td>49.25</td>\n",
       "      <td>47.19</td>\n",
       "      <td>74106576</td>\n",
       "      <td>0.0</td>\n",
       "      <td>18429136000</td>\n",
       "    </tr>\n",
       "  </tbody>\n",
       "</table>\n",
       "</div>"
      ],
      "text/plain": [
       "      Ticker  SimFinId       Date   Open   High    Low  Close  Adj. Close  \\\n",
       "14253   AAPL    111052 2019-04-01  47.91  47.92  47.09  47.81       45.81   \n",
       "14254   AAPL    111052 2019-04-02  47.77  48.62  47.76  48.51       46.47   \n",
       "14255   AAPL    111052 2019-04-03  48.31  49.12  48.29  48.84       46.79   \n",
       "14256   AAPL    111052 2019-04-04  48.70  49.09  48.28  48.92       46.87   \n",
       "14257   AAPL    111052 2019-04-05  49.11  49.27  48.98  49.25       47.19   \n",
       "\n",
       "          Volume  Dividend  Shares Outstanding  \n",
       "14253  111447856       0.0         18429136000  \n",
       "14254   91062928       0.0         18429136000  \n",
       "14255   93087320       0.0         18429136000  \n",
       "14256   76457100       0.0         18429136000  \n",
       "14257   74106576       0.0         18429136000  "
      ]
     },
     "execution_count": 24,
     "metadata": {},
     "output_type": "execute_result"
    }
   ],
   "source": [
    "prices.head()"
   ]
  },
  {
   "cell_type": "code",
   "execution_count": 26,
   "metadata": {},
   "outputs": [],
   "source": [
    "prices.to_csv(\"prices_output.csv\")"
   ]
  }
 ],
 "metadata": {
  "kernelspec": {
   "display_name": "base",
   "language": "python",
   "name": "python3"
  },
  "language_info": {
   "codemirror_mode": {
    "name": "ipython",
    "version": 3
   },
   "file_extension": ".py",
   "mimetype": "text/x-python",
   "name": "python",
   "nbconvert_exporter": "python",
   "pygments_lexer": "ipython3",
   "version": "3.12.2"
  }
 },
 "nbformat": 4,
 "nbformat_minor": 2
}
