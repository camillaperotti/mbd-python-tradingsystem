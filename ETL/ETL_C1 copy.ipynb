{
 "cells": [
  {
   "cell_type": "markdown",
   "metadata": {},
   "source": [
    "# Company1 - ETL Process"
   ]
  },
  {
   "cell_type": "markdown",
   "metadata": {},
   "source": [
    "This notebook is organized in the following sections:\n",
    "* [Step 0 - Preliminary: Viewing the data](#0)\n",
    "* [Step 1 - Checking for duplicates](#1)\n",
    "* [Step 2 - Checking for missing values](#2)\n",
    "* [Step 3 - Imputing/dropping missing values](#3)\n",
    "* [Step 4 - Ensuring Correct Datatypes](#4)\n",
    "* [Step 5 - Preparation for merging](#5)\n"
   ]
  },
  {
   "cell_type": "markdown",
   "metadata": {},
   "source": [
    "<a id='0'></a>\n",
    "## Step 0 - Preliminary: Viewing the data"
   ]
  },
  {
   "cell_type": "code",
   "execution_count": 17,
   "metadata": {},
   "outputs": [],
   "source": [
    "import pandas as pd"
   ]
  },
  {
   "cell_type": "code",
   "execution_count": 18,
   "metadata": {},
   "outputs": [],
   "source": [
    "# Load the share prices csv\n",
    "\n",
    "prices = pd.read_csv(\"data/us-shareprices-daily.csv\",delimiter=';')"
   ]
  },
  {
   "cell_type": "code",
   "execution_count": 19,
   "metadata": {},
   "outputs": [
    {
     "data": {
      "text/html": [
       "<div>\n",
       "<style scoped>\n",
       "    .dataframe tbody tr th:only-of-type {\n",
       "        vertical-align: middle;\n",
       "    }\n",
       "\n",
       "    .dataframe tbody tr th {\n",
       "        vertical-align: top;\n",
       "    }\n",
       "\n",
       "    .dataframe thead th {\n",
       "        text-align: right;\n",
       "    }\n",
       "</style>\n",
       "<table border=\"1\" class=\"dataframe\">\n",
       "  <thead>\n",
       "    <tr style=\"text-align: right;\">\n",
       "      <th></th>\n",
       "      <th>Ticker</th>\n",
       "      <th>SimFinId</th>\n",
       "      <th>Date</th>\n",
       "      <th>Open</th>\n",
       "      <th>High</th>\n",
       "      <th>Low</th>\n",
       "      <th>Close</th>\n",
       "      <th>Adj. Close</th>\n",
       "      <th>Volume</th>\n",
       "      <th>Dividend</th>\n",
       "      <th>Shares Outstanding</th>\n",
       "    </tr>\n",
       "  </thead>\n",
       "  <tbody>\n",
       "    <tr>\n",
       "      <th>5767354</th>\n",
       "      <td>ZYXI</td>\n",
       "      <td>171401</td>\n",
       "      <td>2024-02-26</td>\n",
       "      <td>13.04</td>\n",
       "      <td>13.04</td>\n",
       "      <td>12.67</td>\n",
       "      <td>12.82</td>\n",
       "      <td>12.82</td>\n",
       "      <td>335055</td>\n",
       "      <td>NaN</td>\n",
       "      <td>36435000.0</td>\n",
       "    </tr>\n",
       "    <tr>\n",
       "      <th>5767355</th>\n",
       "      <td>ZYXI</td>\n",
       "      <td>171401</td>\n",
       "      <td>2024-02-27</td>\n",
       "      <td>12.83</td>\n",
       "      <td>13.77</td>\n",
       "      <td>12.83</td>\n",
       "      <td>13.74</td>\n",
       "      <td>13.74</td>\n",
       "      <td>395525</td>\n",
       "      <td>NaN</td>\n",
       "      <td>36435000.0</td>\n",
       "    </tr>\n",
       "    <tr>\n",
       "      <th>5767356</th>\n",
       "      <td>ZYXI</td>\n",
       "      <td>171401</td>\n",
       "      <td>2024-02-28</td>\n",
       "      <td>13.63</td>\n",
       "      <td>13.70</td>\n",
       "      <td>13.38</td>\n",
       "      <td>13.49</td>\n",
       "      <td>13.49</td>\n",
       "      <td>290887</td>\n",
       "      <td>NaN</td>\n",
       "      <td>32170182.0</td>\n",
       "    </tr>\n",
       "    <tr>\n",
       "      <th>5767357</th>\n",
       "      <td>ZYXI</td>\n",
       "      <td>171401</td>\n",
       "      <td>2024-02-29</td>\n",
       "      <td>13.51</td>\n",
       "      <td>13.57</td>\n",
       "      <td>13.28</td>\n",
       "      <td>13.56</td>\n",
       "      <td>13.56</td>\n",
       "      <td>232534</td>\n",
       "      <td>NaN</td>\n",
       "      <td>32170182.0</td>\n",
       "    </tr>\n",
       "    <tr>\n",
       "      <th>5767358</th>\n",
       "      <td>ZYXI</td>\n",
       "      <td>171401</td>\n",
       "      <td>2024-03-01</td>\n",
       "      <td>12.05</td>\n",
       "      <td>13.43</td>\n",
       "      <td>12.00</td>\n",
       "      <td>12.30</td>\n",
       "      <td>12.30</td>\n",
       "      <td>1216112</td>\n",
       "      <td>NaN</td>\n",
       "      <td>32170182.0</td>\n",
       "    </tr>\n",
       "  </tbody>\n",
       "</table>\n",
       "</div>"
      ],
      "text/plain": [
       "        Ticker  SimFinId        Date   Open   High    Low  Close  Adj. Close  \\\n",
       "5767354   ZYXI    171401  2024-02-26  13.04  13.04  12.67  12.82       12.82   \n",
       "5767355   ZYXI    171401  2024-02-27  12.83  13.77  12.83  13.74       13.74   \n",
       "5767356   ZYXI    171401  2024-02-28  13.63  13.70  13.38  13.49       13.49   \n",
       "5767357   ZYXI    171401  2024-02-29  13.51  13.57  13.28  13.56       13.56   \n",
       "5767358   ZYXI    171401  2024-03-01  12.05  13.43  12.00  12.30       12.30   \n",
       "\n",
       "          Volume  Dividend  Shares Outstanding  \n",
       "5767354   335055       NaN          36435000.0  \n",
       "5767355   395525       NaN          36435000.0  \n",
       "5767356   290887       NaN          32170182.0  \n",
       "5767357   232534       NaN          32170182.0  \n",
       "5767358  1216112       NaN          32170182.0  "
      ]
     },
     "execution_count": 19,
     "metadata": {},
     "output_type": "execute_result"
    }
   ],
   "source": [
    "prices.tail()"
   ]
  },
  {
   "cell_type": "code",
   "execution_count": 20,
   "metadata": {},
   "outputs": [],
   "source": [
    "# Load the companies csv \n",
    "companies = pd.read_csv(\"data/us-companies.csv\",delimiter=';')"
   ]
  },
  {
   "cell_type": "markdown",
   "metadata": {},
   "source": [
    "Selecting a company:"
   ]
  },
  {
   "cell_type": "code",
   "execution_count": 55,
   "metadata": {},
   "outputs": [
    {
     "data": {
      "text/html": [
       "<div>\n",
       "<style scoped>\n",
       "    .dataframe tbody tr th:only-of-type {\n",
       "        vertical-align: middle;\n",
       "    }\n",
       "\n",
       "    .dataframe tbody tr th {\n",
       "        vertical-align: top;\n",
       "    }\n",
       "\n",
       "    .dataframe thead th {\n",
       "        text-align: right;\n",
       "    }\n",
       "</style>\n",
       "<table border=\"1\" class=\"dataframe\">\n",
       "  <thead>\n",
       "    <tr style=\"text-align: right;\">\n",
       "      <th></th>\n",
       "      <th>Ticker</th>\n",
       "      <th>SimFinId</th>\n",
       "      <th>Company Name</th>\n",
       "      <th>IndustryId</th>\n",
       "      <th>ISIN</th>\n",
       "      <th>End of financial year (month)</th>\n",
       "      <th>Number Employees</th>\n",
       "      <th>Business Summary</th>\n",
       "      <th>Market</th>\n",
       "      <th>CIK</th>\n",
       "      <th>Main Currency</th>\n",
       "    </tr>\n",
       "  </thead>\n",
       "  <tbody>\n",
       "    <tr>\n",
       "      <th>3650</th>\n",
       "      <td>MSFT</td>\n",
       "      <td>59265</td>\n",
       "      <td>MICROSOFT CORP</td>\n",
       "      <td>101003.0</td>\n",
       "      <td>US5949181045</td>\n",
       "      <td>6.0</td>\n",
       "      <td>166475.0</td>\n",
       "      <td>Microsoft Corp is a technology company. It dev...</td>\n",
       "      <td>us</td>\n",
       "      <td>789019.0</td>\n",
       "      <td>USD</td>\n",
       "    </tr>\n",
       "  </tbody>\n",
       "</table>\n",
       "</div>"
      ],
      "text/plain": [
       "     Ticker  SimFinId    Company Name  IndustryId          ISIN  \\\n",
       "3650   MSFT     59265  MICROSOFT CORP    101003.0  US5949181045   \n",
       "\n",
       "      End of financial year (month)  Number Employees  \\\n",
       "3650                            6.0          166475.0   \n",
       "\n",
       "                                       Business Summary Market       CIK  \\\n",
       "3650  Microsoft Corp is a technology company. It dev...     us  789019.0   \n",
       "\n",
       "     Main Currency  \n",
       "3650           USD  "
      ]
     },
     "execution_count": 55,
     "metadata": {},
     "output_type": "execute_result"
    }
   ],
   "source": [
    "company_bruker = companies[companies[\"Company Name\"] == \"MICROSOFT CORP\"]\n",
    "company_bruker = company_bruker.copy()\n",
    "company_bruker"
   ]
  },
  {
   "cell_type": "code",
   "execution_count": 56,
   "metadata": {},
   "outputs": [
    {
     "data": {
      "text/html": [
       "<div>\n",
       "<style scoped>\n",
       "    .dataframe tbody tr th:only-of-type {\n",
       "        vertical-align: middle;\n",
       "    }\n",
       "\n",
       "    .dataframe tbody tr th {\n",
       "        vertical-align: top;\n",
       "    }\n",
       "\n",
       "    .dataframe thead th {\n",
       "        text-align: right;\n",
       "    }\n",
       "</style>\n",
       "<table border=\"1\" class=\"dataframe\">\n",
       "  <thead>\n",
       "    <tr style=\"text-align: right;\">\n",
       "      <th></th>\n",
       "      <th>Ticker</th>\n",
       "      <th>SimFinId</th>\n",
       "      <th>Date</th>\n",
       "      <th>Open</th>\n",
       "      <th>High</th>\n",
       "      <th>Low</th>\n",
       "      <th>Close</th>\n",
       "      <th>Adj. Close</th>\n",
       "      <th>Volume</th>\n",
       "      <th>Dividend</th>\n",
       "      <th>Shares Outstanding</th>\n",
       "    </tr>\n",
       "  </thead>\n",
       "  <tbody>\n",
       "    <tr>\n",
       "      <th>14253</th>\n",
       "      <td>AAPL</td>\n",
       "      <td>111052</td>\n",
       "      <td>2019-04-01</td>\n",
       "      <td>47.91</td>\n",
       "      <td>47.92</td>\n",
       "      <td>47.09</td>\n",
       "      <td>47.81</td>\n",
       "      <td>45.81</td>\n",
       "      <td>111447856</td>\n",
       "      <td>NaN</td>\n",
       "      <td>1.842914e+10</td>\n",
       "    </tr>\n",
       "    <tr>\n",
       "      <th>14254</th>\n",
       "      <td>AAPL</td>\n",
       "      <td>111052</td>\n",
       "      <td>2019-04-02</td>\n",
       "      <td>47.77</td>\n",
       "      <td>48.62</td>\n",
       "      <td>47.76</td>\n",
       "      <td>48.51</td>\n",
       "      <td>46.47</td>\n",
       "      <td>91062928</td>\n",
       "      <td>NaN</td>\n",
       "      <td>1.842914e+10</td>\n",
       "    </tr>\n",
       "    <tr>\n",
       "      <th>14255</th>\n",
       "      <td>AAPL</td>\n",
       "      <td>111052</td>\n",
       "      <td>2019-04-03</td>\n",
       "      <td>48.31</td>\n",
       "      <td>49.12</td>\n",
       "      <td>48.29</td>\n",
       "      <td>48.84</td>\n",
       "      <td>46.79</td>\n",
       "      <td>93087320</td>\n",
       "      <td>NaN</td>\n",
       "      <td>1.842914e+10</td>\n",
       "    </tr>\n",
       "    <tr>\n",
       "      <th>14256</th>\n",
       "      <td>AAPL</td>\n",
       "      <td>111052</td>\n",
       "      <td>2019-04-04</td>\n",
       "      <td>48.70</td>\n",
       "      <td>49.09</td>\n",
       "      <td>48.28</td>\n",
       "      <td>48.92</td>\n",
       "      <td>46.87</td>\n",
       "      <td>76457100</td>\n",
       "      <td>NaN</td>\n",
       "      <td>1.842914e+10</td>\n",
       "    </tr>\n",
       "    <tr>\n",
       "      <th>14257</th>\n",
       "      <td>AAPL</td>\n",
       "      <td>111052</td>\n",
       "      <td>2019-04-05</td>\n",
       "      <td>49.11</td>\n",
       "      <td>49.27</td>\n",
       "      <td>48.98</td>\n",
       "      <td>49.25</td>\n",
       "      <td>47.19</td>\n",
       "      <td>74106576</td>\n",
       "      <td>NaN</td>\n",
       "      <td>1.842914e+10</td>\n",
       "    </tr>\n",
       "    <tr>\n",
       "      <th>...</th>\n",
       "      <td>...</td>\n",
       "      <td>...</td>\n",
       "      <td>...</td>\n",
       "      <td>...</td>\n",
       "      <td>...</td>\n",
       "      <td>...</td>\n",
       "      <td>...</td>\n",
       "      <td>...</td>\n",
       "      <td>...</td>\n",
       "      <td>...</td>\n",
       "      <td>...</td>\n",
       "    </tr>\n",
       "    <tr>\n",
       "      <th>5192433</th>\n",
       "      <td>TSLA</td>\n",
       "      <td>56317</td>\n",
       "      <td>2024-02-26</td>\n",
       "      <td>192.29</td>\n",
       "      <td>201.78</td>\n",
       "      <td>192.00</td>\n",
       "      <td>199.40</td>\n",
       "      <td>199.40</td>\n",
       "      <td>111747116</td>\n",
       "      <td>NaN</td>\n",
       "      <td>3.184790e+09</td>\n",
       "    </tr>\n",
       "    <tr>\n",
       "      <th>5192434</th>\n",
       "      <td>TSLA</td>\n",
       "      <td>56317</td>\n",
       "      <td>2024-02-27</td>\n",
       "      <td>204.04</td>\n",
       "      <td>205.60</td>\n",
       "      <td>198.26</td>\n",
       "      <td>199.73</td>\n",
       "      <td>199.73</td>\n",
       "      <td>108645412</td>\n",
       "      <td>NaN</td>\n",
       "      <td>3.184790e+09</td>\n",
       "    </tr>\n",
       "    <tr>\n",
       "      <th>5192435</th>\n",
       "      <td>TSLA</td>\n",
       "      <td>56317</td>\n",
       "      <td>2024-02-28</td>\n",
       "      <td>200.42</td>\n",
       "      <td>205.30</td>\n",
       "      <td>198.44</td>\n",
       "      <td>202.04</td>\n",
       "      <td>202.04</td>\n",
       "      <td>99806173</td>\n",
       "      <td>NaN</td>\n",
       "      <td>3.184790e+09</td>\n",
       "    </tr>\n",
       "    <tr>\n",
       "      <th>5192436</th>\n",
       "      <td>TSLA</td>\n",
       "      <td>56317</td>\n",
       "      <td>2024-02-29</td>\n",
       "      <td>204.18</td>\n",
       "      <td>205.28</td>\n",
       "      <td>198.45</td>\n",
       "      <td>201.88</td>\n",
       "      <td>201.88</td>\n",
       "      <td>85906974</td>\n",
       "      <td>NaN</td>\n",
       "      <td>3.184790e+09</td>\n",
       "    </tr>\n",
       "    <tr>\n",
       "      <th>5192437</th>\n",
       "      <td>TSLA</td>\n",
       "      <td>56317</td>\n",
       "      <td>2024-03-01</td>\n",
       "      <td>200.52</td>\n",
       "      <td>204.52</td>\n",
       "      <td>198.50</td>\n",
       "      <td>202.64</td>\n",
       "      <td>202.64</td>\n",
       "      <td>82243119</td>\n",
       "      <td>NaN</td>\n",
       "      <td>3.184790e+09</td>\n",
       "    </tr>\n",
       "  </tbody>\n",
       "</table>\n",
       "<p>6195 rows × 11 columns</p>\n",
       "</div>"
      ],
      "text/plain": [
       "        Ticker  SimFinId        Date    Open    High     Low   Close  \\\n",
       "14253     AAPL    111052  2019-04-01   47.91   47.92   47.09   47.81   \n",
       "14254     AAPL    111052  2019-04-02   47.77   48.62   47.76   48.51   \n",
       "14255     AAPL    111052  2019-04-03   48.31   49.12   48.29   48.84   \n",
       "14256     AAPL    111052  2019-04-04   48.70   49.09   48.28   48.92   \n",
       "14257     AAPL    111052  2019-04-05   49.11   49.27   48.98   49.25   \n",
       "...        ...       ...         ...     ...     ...     ...     ...   \n",
       "5192433   TSLA     56317  2024-02-26  192.29  201.78  192.00  199.40   \n",
       "5192434   TSLA     56317  2024-02-27  204.04  205.60  198.26  199.73   \n",
       "5192435   TSLA     56317  2024-02-28  200.42  205.30  198.44  202.04   \n",
       "5192436   TSLA     56317  2024-02-29  204.18  205.28  198.45  201.88   \n",
       "5192437   TSLA     56317  2024-03-01  200.52  204.52  198.50  202.64   \n",
       "\n",
       "         Adj. Close     Volume  Dividend  Shares Outstanding  \n",
       "14253         45.81  111447856       NaN        1.842914e+10  \n",
       "14254         46.47   91062928       NaN        1.842914e+10  \n",
       "14255         46.79   93087320       NaN        1.842914e+10  \n",
       "14256         46.87   76457100       NaN        1.842914e+10  \n",
       "14257         47.19   74106576       NaN        1.842914e+10  \n",
       "...             ...        ...       ...                 ...  \n",
       "5192433      199.40  111747116       NaN        3.184790e+09  \n",
       "5192434      199.73  108645412       NaN        3.184790e+09  \n",
       "5192435      202.04   99806173       NaN        3.184790e+09  \n",
       "5192436      201.88   85906974       NaN        3.184790e+09  \n",
       "5192437      202.64   82243119       NaN        3.184790e+09  \n",
       "\n",
       "[6195 rows x 11 columns]"
      ]
     },
     "execution_count": 56,
     "metadata": {},
     "output_type": "execute_result"
    }
   ],
   "source": [
    "prices_bruker = prices[prices[\"SimFinId\"].isin([1253240, 111052, 63877,56317, 59265])]\n",
    "prices_bruker = prices_bruker.copy()\n",
    "prices_bruker"
   ]
  },
  {
   "cell_type": "markdown",
   "metadata": {},
   "source": [
    "<a id='1'></a>\n",
    "## Step 1 - Checking for duplicates"
   ]
  },
  {
   "cell_type": "code",
   "execution_count": 57,
   "metadata": {},
   "outputs": [
    {
     "data": {
      "text/plain": [
       "False"
      ]
     },
     "execution_count": 57,
     "metadata": {},
     "output_type": "execute_result"
    }
   ],
   "source": [
    "#Check for share prices\n",
    "\n",
    "prices.duplicated().any()"
   ]
  },
  {
   "cell_type": "code",
   "execution_count": 24,
   "metadata": {},
   "outputs": [
    {
     "data": {
      "text/plain": [
       "False"
      ]
     },
     "execution_count": 24,
     "metadata": {},
     "output_type": "execute_result"
    }
   ],
   "source": [
    "# Check for companies \n",
    "\n",
    "companies.duplicated().any()"
   ]
  },
  {
   "cell_type": "markdown",
   "metadata": {},
   "source": [
    "Conclusion: There are no duplicate values."
   ]
  },
  {
   "cell_type": "markdown",
   "metadata": {},
   "source": [
    "<a id='2'></a>\n",
    "## Step 2 - Checking for missing values"
   ]
  },
  {
   "cell_type": "markdown",
   "metadata": {},
   "source": [
    "**Checking in specific company:**"
   ]
  },
  {
   "cell_type": "code",
   "execution_count": 58,
   "metadata": {},
   "outputs": [
    {
     "data": {
      "text/plain": [
       "Ticker                0.000000\n",
       "SimFinId              0.000000\n",
       "Date                  0.000000\n",
       "Open                  0.000000\n",
       "High                  0.000000\n",
       "Low                   0.000000\n",
       "Close                 0.000000\n",
       "Adj. Close            0.000000\n",
       "Volume                0.000000\n",
       "Dividend              0.987086\n",
       "Shares Outstanding    0.000000\n",
       "dtype: float64"
      ]
     },
     "execution_count": 58,
     "metadata": {},
     "output_type": "execute_result"
    }
   ],
   "source": [
    "prices_bruker.isna().sum() / len(prices_bruker)"
   ]
  },
  {
   "cell_type": "code",
   "execution_count": 28,
   "metadata": {},
   "outputs": [
    {
     "data": {
      "text/plain": [
       "Ticker                           0.0\n",
       "SimFinId                         0.0\n",
       "Company Name                     0.0\n",
       "IndustryId                       0.0\n",
       "ISIN                             0.0\n",
       "End of financial year (month)    0.0\n",
       "Number Employees                 0.0\n",
       "Business Summary                 0.0\n",
       "Market                           0.0\n",
       "CIK                              0.0\n",
       "Main Currency                    0.0\n",
       "dtype: float64"
      ]
     },
     "execution_count": 28,
     "metadata": {},
     "output_type": "execute_result"
    }
   ],
   "source": [
    "company_bruker.isna().sum() / len(company_bruker)"
   ]
  },
  {
   "cell_type": "markdown",
   "metadata": {},
   "source": [
    "Conclusion: The only missing values are dividends in the prices_bruker df, which are not paid out all the time. We can assume they equal 0 when they are missing."
   ]
  },
  {
   "cell_type": "markdown",
   "metadata": {},
   "source": [
    "<a id='3'></a>\n",
    "## Step 3 - Imputing/dropping missing values"
   ]
  },
  {
   "cell_type": "code",
   "execution_count": 29,
   "metadata": {},
   "outputs": [],
   "source": [
    "prices_bruker[\"Dividend\"] = prices_bruker[\"Dividend\"].fillna(0)"
   ]
  },
  {
   "cell_type": "code",
   "execution_count": 30,
   "metadata": {},
   "outputs": [
    {
     "data": {
      "text/plain": [
       "array([0.  , 0.19, 0.2 , 0.22, 0.23, 0.24, 0.32, 0.36, 0.45, 0.47, 0.51,\n",
       "       0.55, 0.04, 0.05])"
      ]
     },
     "execution_count": 30,
     "metadata": {},
     "output_type": "execute_result"
    }
   ],
   "source": [
    "prices_bruker.Dividend.unique()"
   ]
  },
  {
   "cell_type": "code",
   "execution_count": 31,
   "metadata": {},
   "outputs": [
    {
     "data": {
      "text/plain": [
       "Ticker                0.000000\n",
       "SimFinId              0.000000\n",
       "Date                  0.000000\n",
       "Open                  0.000000\n",
       "High                  0.000000\n",
       "Low                   0.000000\n",
       "Close                 0.000000\n",
       "Adj. Close            0.000000\n",
       "Volume                0.000000\n",
       "Dividend              0.000000\n",
       "Shares Outstanding    0.047458\n",
       "dtype: float64"
      ]
     },
     "execution_count": 31,
     "metadata": {},
     "output_type": "execute_result"
    }
   ],
   "source": [
    "prices_bruker.isna().sum() / len(prices_bruker)"
   ]
  },
  {
   "cell_type": "markdown",
   "metadata": {},
   "source": [
    "Conclusion: No missing values anymore."
   ]
  },
  {
   "cell_type": "markdown",
   "metadata": {},
   "source": [
    "<a id='4'></a>\n",
    "## Step 4 - Ensuring correct datatypes"
   ]
  },
  {
   "cell_type": "code",
   "execution_count": 32,
   "metadata": {},
   "outputs": [
    {
     "name": "stdout",
     "output_type": "stream",
     "text": [
      "<class 'pandas.core.frame.DataFrame'>\n",
      "Index: 6195 entries, 14253 to 5192437\n",
      "Data columns (total 11 columns):\n",
      " #   Column              Non-Null Count  Dtype  \n",
      "---  ------              --------------  -----  \n",
      " 0   Ticker              6195 non-null   object \n",
      " 1   SimFinId            6195 non-null   int64  \n",
      " 2   Date                6195 non-null   object \n",
      " 3   Open                6195 non-null   float64\n",
      " 4   High                6195 non-null   float64\n",
      " 5   Low                 6195 non-null   float64\n",
      " 6   Close               6195 non-null   float64\n",
      " 7   Adj. Close          6195 non-null   float64\n",
      " 8   Volume              6195 non-null   int64  \n",
      " 9   Dividend            6195 non-null   float64\n",
      " 10  Shares Outstanding  5901 non-null   float64\n",
      "dtypes: float64(7), int64(2), object(2)\n",
      "memory usage: 580.8+ KB\n"
     ]
    }
   ],
   "source": [
    "prices_bruker.info()\n"
   ]
  },
  {
   "cell_type": "code",
   "execution_count": 33,
   "metadata": {},
   "outputs": [
    {
     "data": {
      "text/html": [
       "<div>\n",
       "<style scoped>\n",
       "    .dataframe tbody tr th:only-of-type {\n",
       "        vertical-align: middle;\n",
       "    }\n",
       "\n",
       "    .dataframe tbody tr th {\n",
       "        vertical-align: top;\n",
       "    }\n",
       "\n",
       "    .dataframe thead th {\n",
       "        text-align: right;\n",
       "    }\n",
       "</style>\n",
       "<table border=\"1\" class=\"dataframe\">\n",
       "  <thead>\n",
       "    <tr style=\"text-align: right;\">\n",
       "      <th></th>\n",
       "      <th>Ticker</th>\n",
       "      <th>SimFinId</th>\n",
       "      <th>Date</th>\n",
       "      <th>Open</th>\n",
       "      <th>High</th>\n",
       "      <th>Low</th>\n",
       "      <th>Close</th>\n",
       "      <th>Adj. Close</th>\n",
       "      <th>Volume</th>\n",
       "      <th>Dividend</th>\n",
       "      <th>Shares Outstanding</th>\n",
       "    </tr>\n",
       "  </thead>\n",
       "  <tbody>\n",
       "    <tr>\n",
       "      <th>14253</th>\n",
       "      <td>AAPL</td>\n",
       "      <td>111052</td>\n",
       "      <td>2019-04-01</td>\n",
       "      <td>47.91</td>\n",
       "      <td>47.92</td>\n",
       "      <td>47.09</td>\n",
       "      <td>47.81</td>\n",
       "      <td>45.81</td>\n",
       "      <td>111447856</td>\n",
       "      <td>0.0</td>\n",
       "      <td>1.842914e+10</td>\n",
       "    </tr>\n",
       "    <tr>\n",
       "      <th>14254</th>\n",
       "      <td>AAPL</td>\n",
       "      <td>111052</td>\n",
       "      <td>2019-04-02</td>\n",
       "      <td>47.77</td>\n",
       "      <td>48.62</td>\n",
       "      <td>47.76</td>\n",
       "      <td>48.51</td>\n",
       "      <td>46.47</td>\n",
       "      <td>91062928</td>\n",
       "      <td>0.0</td>\n",
       "      <td>1.842914e+10</td>\n",
       "    </tr>\n",
       "    <tr>\n",
       "      <th>14255</th>\n",
       "      <td>AAPL</td>\n",
       "      <td>111052</td>\n",
       "      <td>2019-04-03</td>\n",
       "      <td>48.31</td>\n",
       "      <td>49.12</td>\n",
       "      <td>48.29</td>\n",
       "      <td>48.84</td>\n",
       "      <td>46.79</td>\n",
       "      <td>93087320</td>\n",
       "      <td>0.0</td>\n",
       "      <td>1.842914e+10</td>\n",
       "    </tr>\n",
       "    <tr>\n",
       "      <th>14256</th>\n",
       "      <td>AAPL</td>\n",
       "      <td>111052</td>\n",
       "      <td>2019-04-04</td>\n",
       "      <td>48.70</td>\n",
       "      <td>49.09</td>\n",
       "      <td>48.28</td>\n",
       "      <td>48.92</td>\n",
       "      <td>46.87</td>\n",
       "      <td>76457100</td>\n",
       "      <td>0.0</td>\n",
       "      <td>1.842914e+10</td>\n",
       "    </tr>\n",
       "    <tr>\n",
       "      <th>14257</th>\n",
       "      <td>AAPL</td>\n",
       "      <td>111052</td>\n",
       "      <td>2019-04-05</td>\n",
       "      <td>49.11</td>\n",
       "      <td>49.27</td>\n",
       "      <td>48.98</td>\n",
       "      <td>49.25</td>\n",
       "      <td>47.19</td>\n",
       "      <td>74106576</td>\n",
       "      <td>0.0</td>\n",
       "      <td>1.842914e+10</td>\n",
       "    </tr>\n",
       "    <tr>\n",
       "      <th>...</th>\n",
       "      <td>...</td>\n",
       "      <td>...</td>\n",
       "      <td>...</td>\n",
       "      <td>...</td>\n",
       "      <td>...</td>\n",
       "      <td>...</td>\n",
       "      <td>...</td>\n",
       "      <td>...</td>\n",
       "      <td>...</td>\n",
       "      <td>...</td>\n",
       "      <td>...</td>\n",
       "    </tr>\n",
       "    <tr>\n",
       "      <th>5192433</th>\n",
       "      <td>TSLA</td>\n",
       "      <td>56317</td>\n",
       "      <td>2024-02-26</td>\n",
       "      <td>192.29</td>\n",
       "      <td>201.78</td>\n",
       "      <td>192.00</td>\n",
       "      <td>199.40</td>\n",
       "      <td>199.40</td>\n",
       "      <td>111747116</td>\n",
       "      <td>0.0</td>\n",
       "      <td>3.184790e+09</td>\n",
       "    </tr>\n",
       "    <tr>\n",
       "      <th>5192434</th>\n",
       "      <td>TSLA</td>\n",
       "      <td>56317</td>\n",
       "      <td>2024-02-27</td>\n",
       "      <td>204.04</td>\n",
       "      <td>205.60</td>\n",
       "      <td>198.26</td>\n",
       "      <td>199.73</td>\n",
       "      <td>199.73</td>\n",
       "      <td>108645412</td>\n",
       "      <td>0.0</td>\n",
       "      <td>3.184790e+09</td>\n",
       "    </tr>\n",
       "    <tr>\n",
       "      <th>5192435</th>\n",
       "      <td>TSLA</td>\n",
       "      <td>56317</td>\n",
       "      <td>2024-02-28</td>\n",
       "      <td>200.42</td>\n",
       "      <td>205.30</td>\n",
       "      <td>198.44</td>\n",
       "      <td>202.04</td>\n",
       "      <td>202.04</td>\n",
       "      <td>99806173</td>\n",
       "      <td>0.0</td>\n",
       "      <td>3.184790e+09</td>\n",
       "    </tr>\n",
       "    <tr>\n",
       "      <th>5192436</th>\n",
       "      <td>TSLA</td>\n",
       "      <td>56317</td>\n",
       "      <td>2024-02-29</td>\n",
       "      <td>204.18</td>\n",
       "      <td>205.28</td>\n",
       "      <td>198.45</td>\n",
       "      <td>201.88</td>\n",
       "      <td>201.88</td>\n",
       "      <td>85906974</td>\n",
       "      <td>0.0</td>\n",
       "      <td>3.184790e+09</td>\n",
       "    </tr>\n",
       "    <tr>\n",
       "      <th>5192437</th>\n",
       "      <td>TSLA</td>\n",
       "      <td>56317</td>\n",
       "      <td>2024-03-01</td>\n",
       "      <td>200.52</td>\n",
       "      <td>204.52</td>\n",
       "      <td>198.50</td>\n",
       "      <td>202.64</td>\n",
       "      <td>202.64</td>\n",
       "      <td>82243119</td>\n",
       "      <td>0.0</td>\n",
       "      <td>3.184790e+09</td>\n",
       "    </tr>\n",
       "  </tbody>\n",
       "</table>\n",
       "<p>6195 rows × 11 columns</p>\n",
       "</div>"
      ],
      "text/plain": [
       "        Ticker  SimFinId        Date    Open    High     Low   Close  \\\n",
       "14253     AAPL    111052  2019-04-01   47.91   47.92   47.09   47.81   \n",
       "14254     AAPL    111052  2019-04-02   47.77   48.62   47.76   48.51   \n",
       "14255     AAPL    111052  2019-04-03   48.31   49.12   48.29   48.84   \n",
       "14256     AAPL    111052  2019-04-04   48.70   49.09   48.28   48.92   \n",
       "14257     AAPL    111052  2019-04-05   49.11   49.27   48.98   49.25   \n",
       "...        ...       ...         ...     ...     ...     ...     ...   \n",
       "5192433   TSLA     56317  2024-02-26  192.29  201.78  192.00  199.40   \n",
       "5192434   TSLA     56317  2024-02-27  204.04  205.60  198.26  199.73   \n",
       "5192435   TSLA     56317  2024-02-28  200.42  205.30  198.44  202.04   \n",
       "5192436   TSLA     56317  2024-02-29  204.18  205.28  198.45  201.88   \n",
       "5192437   TSLA     56317  2024-03-01  200.52  204.52  198.50  202.64   \n",
       "\n",
       "         Adj. Close     Volume  Dividend  Shares Outstanding  \n",
       "14253         45.81  111447856       0.0        1.842914e+10  \n",
       "14254         46.47   91062928       0.0        1.842914e+10  \n",
       "14255         46.79   93087320       0.0        1.842914e+10  \n",
       "14256         46.87   76457100       0.0        1.842914e+10  \n",
       "14257         47.19   74106576       0.0        1.842914e+10  \n",
       "...             ...        ...       ...                 ...  \n",
       "5192433      199.40  111747116       0.0        3.184790e+09  \n",
       "5192434      199.73  108645412       0.0        3.184790e+09  \n",
       "5192435      202.04   99806173       0.0        3.184790e+09  \n",
       "5192436      201.88   85906974       0.0        3.184790e+09  \n",
       "5192437      202.64   82243119       0.0        3.184790e+09  \n",
       "\n",
       "[6195 rows x 11 columns]"
      ]
     },
     "execution_count": 33,
     "metadata": {},
     "output_type": "execute_result"
    }
   ],
   "source": [
    "prices_bruker"
   ]
  },
  {
   "cell_type": "markdown",
   "metadata": {},
   "source": [
    "We see there are is a float64 which might be cleaner to format as int64 (Shares Outstanding) Let's double check, we'll do this for the whole dataset."
   ]
  },
  {
   "cell_type": "code",
   "execution_count": 34,
   "metadata": {},
   "outputs": [
    {
     "data": {
      "text/plain": [
       "array([nan])"
      ]
     },
     "execution_count": 34,
     "metadata": {},
     "output_type": "execute_result"
    }
   ],
   "source": [
    "prices[prices[\"Shares Outstanding\"] % 1 != 0][\"Shares Outstanding\"].unique()"
   ]
  },
  {
   "cell_type": "markdown",
   "metadata": {},
   "source": [
    "Repeating the same checks for company_bruker:"
   ]
  },
  {
   "cell_type": "code",
   "execution_count": 35,
   "metadata": {},
   "outputs": [
    {
     "name": "stdout",
     "output_type": "stream",
     "text": [
      "<class 'pandas.core.frame.DataFrame'>\n",
      "Index: 1 entries, 1817 to 1817\n",
      "Data columns (total 11 columns):\n",
      " #   Column                         Non-Null Count  Dtype  \n",
      "---  ------                         --------------  -----  \n",
      " 0   Ticker                         1 non-null      object \n",
      " 1   SimFinId                       1 non-null      int64  \n",
      " 2   Company Name                   1 non-null      object \n",
      " 3   IndustryId                     1 non-null      float64\n",
      " 4   ISIN                           1 non-null      object \n",
      " 5   End of financial year (month)  1 non-null      float64\n",
      " 6   Number Employees               1 non-null      float64\n",
      " 7   Business Summary               1 non-null      object \n",
      " 8   Market                         1 non-null      object \n",
      " 9   CIK                            1 non-null      float64\n",
      " 10  Main Currency                  1 non-null      object \n",
      "dtypes: float64(4), int64(1), object(6)\n",
      "memory usage: 96.0+ bytes\n"
     ]
    }
   ],
   "source": [
    "company_bruker.info()"
   ]
  },
  {
   "cell_type": "code",
   "execution_count": 36,
   "metadata": {},
   "outputs": [
    {
     "data": {
      "text/html": [
       "<div>\n",
       "<style scoped>\n",
       "    .dataframe tbody tr th:only-of-type {\n",
       "        vertical-align: middle;\n",
       "    }\n",
       "\n",
       "    .dataframe tbody tr th {\n",
       "        vertical-align: top;\n",
       "    }\n",
       "\n",
       "    .dataframe thead th {\n",
       "        text-align: right;\n",
       "    }\n",
       "</style>\n",
       "<table border=\"1\" class=\"dataframe\">\n",
       "  <thead>\n",
       "    <tr style=\"text-align: right;\">\n",
       "      <th></th>\n",
       "      <th>Ticker</th>\n",
       "      <th>SimFinId</th>\n",
       "      <th>Company Name</th>\n",
       "      <th>IndustryId</th>\n",
       "      <th>ISIN</th>\n",
       "      <th>End of financial year (month)</th>\n",
       "      <th>Number Employees</th>\n",
       "      <th>Business Summary</th>\n",
       "      <th>Market</th>\n",
       "      <th>CIK</th>\n",
       "      <th>Main Currency</th>\n",
       "    </tr>\n",
       "  </thead>\n",
       "  <tbody>\n",
       "    <tr>\n",
       "      <th>1817</th>\n",
       "      <td>EDU</td>\n",
       "      <td>17708500</td>\n",
       "      <td>New Oriental Education &amp; Technology Group Inc.</td>\n",
       "      <td>102006.0</td>\n",
       "      <td>US6475811070</td>\n",
       "      <td>12.0</td>\n",
       "      <td>46653.0</td>\n",
       "      <td>New Oriental Education &amp; Technology Group Inc....</td>\n",
       "      <td>us</td>\n",
       "      <td>1372920.0</td>\n",
       "      <td>USD</td>\n",
       "    </tr>\n",
       "  </tbody>\n",
       "</table>\n",
       "</div>"
      ],
      "text/plain": [
       "     Ticker  SimFinId                                    Company Name  \\\n",
       "1817    EDU  17708500  New Oriental Education & Technology Group Inc.   \n",
       "\n",
       "      IndustryId          ISIN  End of financial year (month)  \\\n",
       "1817    102006.0  US6475811070                           12.0   \n",
       "\n",
       "      Number Employees                                   Business Summary  \\\n",
       "1817           46653.0  New Oriental Education & Technology Group Inc....   \n",
       "\n",
       "     Market        CIK Main Currency  \n",
       "1817     us  1372920.0           USD  "
      ]
     },
     "execution_count": 36,
     "metadata": {},
     "output_type": "execute_result"
    }
   ],
   "source": [
    "company_bruker.head()"
   ]
  },
  {
   "cell_type": "markdown",
   "metadata": {},
   "source": [
    "We see there are some float64 which might be cleaner to format as int64, column headers such as ID's, which can only be full numbers. Let's double check, we'll do this for the whole dataset."
   ]
  },
  {
   "cell_type": "code",
   "execution_count": 37,
   "metadata": {},
   "outputs": [
    {
     "data": {
      "text/plain": [
       "array([nan])"
      ]
     },
     "execution_count": 37,
     "metadata": {},
     "output_type": "execute_result"
    }
   ],
   "source": [
    "companies[companies[\"IndustryId\"] % 1 != 0][\"IndustryId\"].unique()"
   ]
  },
  {
   "cell_type": "code",
   "execution_count": 38,
   "metadata": {},
   "outputs": [
    {
     "data": {
      "text/plain": [
       "array([nan])"
      ]
     },
     "execution_count": 38,
     "metadata": {},
     "output_type": "execute_result"
    }
   ],
   "source": [
    "companies[companies[\"End of financial year (month)\"] % 1 != 0][\"End of financial year (month)\"].unique()"
   ]
  },
  {
   "cell_type": "code",
   "execution_count": 39,
   "metadata": {},
   "outputs": [
    {
     "data": {
      "text/plain": [
       "array([nan])"
      ]
     },
     "execution_count": 39,
     "metadata": {},
     "output_type": "execute_result"
    }
   ],
   "source": [
    "companies[companies[\"Number Employees\"] % 1 != 0][\"Number Employees\"].unique()"
   ]
  },
  {
   "cell_type": "code",
   "execution_count": 40,
   "metadata": {},
   "outputs": [
    {
     "data": {
      "text/plain": [
       "array([nan])"
      ]
     },
     "execution_count": 40,
     "metadata": {},
     "output_type": "execute_result"
    }
   ],
   "source": [
    "companies[companies[\"CIK\"] % 1 != 0][\"CIK\"].unique()"
   ]
  },
  {
   "cell_type": "markdown",
   "metadata": {},
   "source": [
    "Conclusion:\n",
    "- prices_bruker: date column is object and not date format, will be changed + \"Shares Outstanding\" can be changed to int\n",
    "- company_bruker: we can convert all floats to integer, to have a cleaner dataset:\n",
    "    - IndustryId\n",
    "    - End of financial year (month)\n",
    "    - Number Employees\n",
    "    - CIK\n",
    "\n",
    "\n",
    "Comment:\n",
    "There are missing values in the whole dataset. If more companies are added to the model, these need to be handled."
   ]
  },
  {
   "cell_type": "code",
   "execution_count": 41,
   "metadata": {},
   "outputs": [],
   "source": [
    "# for company_bruker\n",
    "\n",
    "company_bruker[\"IndustryId\"] =  company_bruker[\"IndustryId\"].astype(int)\n",
    "company_bruker[\"End of financial year (month)\"] =  company_bruker[\"End of financial year (month)\"].astype(int)\n",
    "company_bruker[\"Number Employees\"] =  company_bruker[\"Number Employees\"].astype(int)\n",
    "company_bruker[\"CIK\"] =  company_bruker[\"CIK\"].astype(int)\n"
   ]
  },
  {
   "cell_type": "code",
   "execution_count": 42,
   "metadata": {},
   "outputs": [
    {
     "ename": "IntCastingNaNError",
     "evalue": "Cannot convert non-finite values (NA or inf) to integer",
     "output_type": "error",
     "traceback": [
      "\u001b[0;31m---------------------------------------------------------------------------\u001b[0m",
      "\u001b[0;31mIntCastingNaNError\u001b[0m                        Traceback (most recent call last)",
      "Cell \u001b[0;32mIn[42], line 3\u001b[0m\n\u001b[1;32m      1\u001b[0m \u001b[38;5;66;03m# for prices_bruker\u001b[39;00m\n\u001b[0;32m----> 3\u001b[0m prices_bruker[\u001b[38;5;124m\"\u001b[39m\u001b[38;5;124mShares Outstanding\u001b[39m\u001b[38;5;124m\"\u001b[39m] \u001b[38;5;241m=\u001b[39m  prices_bruker[\u001b[38;5;124m\"\u001b[39m\u001b[38;5;124mShares Outstanding\u001b[39m\u001b[38;5;124m\"\u001b[39m]\u001b[38;5;241m.\u001b[39mastype(\u001b[38;5;28mint\u001b[39m)\n\u001b[1;32m      4\u001b[0m prices_bruker[\u001b[38;5;124m\"\u001b[39m\u001b[38;5;124mDate\u001b[39m\u001b[38;5;124m\"\u001b[39m] \u001b[38;5;241m=\u001b[39m pd\u001b[38;5;241m.\u001b[39mto_datetime(prices_bruker\u001b[38;5;241m.\u001b[39mDate, \u001b[38;5;28mformat\u001b[39m\u001b[38;5;241m=\u001b[39m\u001b[38;5;124m\"\u001b[39m\u001b[38;5;124m%\u001b[39m\u001b[38;5;124mY-\u001b[39m\u001b[38;5;124m%\u001b[39m\u001b[38;5;124mm-\u001b[39m\u001b[38;5;132;01m%d\u001b[39;00m\u001b[38;5;124m\"\u001b[39m)\n",
      "File \u001b[0;32m/opt/anaconda3/lib/python3.12/site-packages/pandas/core/generic.py:6643\u001b[0m, in \u001b[0;36mNDFrame.astype\u001b[0;34m(self, dtype, copy, errors)\u001b[0m\n\u001b[1;32m   6637\u001b[0m     results \u001b[38;5;241m=\u001b[39m [\n\u001b[1;32m   6638\u001b[0m         ser\u001b[38;5;241m.\u001b[39mastype(dtype, copy\u001b[38;5;241m=\u001b[39mcopy, errors\u001b[38;5;241m=\u001b[39merrors) \u001b[38;5;28;01mfor\u001b[39;00m _, ser \u001b[38;5;129;01min\u001b[39;00m \u001b[38;5;28mself\u001b[39m\u001b[38;5;241m.\u001b[39mitems()\n\u001b[1;32m   6639\u001b[0m     ]\n\u001b[1;32m   6641\u001b[0m \u001b[38;5;28;01melse\u001b[39;00m:\n\u001b[1;32m   6642\u001b[0m     \u001b[38;5;66;03m# else, only a single dtype is given\u001b[39;00m\n\u001b[0;32m-> 6643\u001b[0m     new_data \u001b[38;5;241m=\u001b[39m \u001b[38;5;28mself\u001b[39m\u001b[38;5;241m.\u001b[39m_mgr\u001b[38;5;241m.\u001b[39mastype(dtype\u001b[38;5;241m=\u001b[39mdtype, copy\u001b[38;5;241m=\u001b[39mcopy, errors\u001b[38;5;241m=\u001b[39merrors)\n\u001b[1;32m   6644\u001b[0m     res \u001b[38;5;241m=\u001b[39m \u001b[38;5;28mself\u001b[39m\u001b[38;5;241m.\u001b[39m_constructor_from_mgr(new_data, axes\u001b[38;5;241m=\u001b[39mnew_data\u001b[38;5;241m.\u001b[39maxes)\n\u001b[1;32m   6645\u001b[0m     \u001b[38;5;28;01mreturn\u001b[39;00m res\u001b[38;5;241m.\u001b[39m__finalize__(\u001b[38;5;28mself\u001b[39m, method\u001b[38;5;241m=\u001b[39m\u001b[38;5;124m\"\u001b[39m\u001b[38;5;124mastype\u001b[39m\u001b[38;5;124m\"\u001b[39m)\n",
      "File \u001b[0;32m/opt/anaconda3/lib/python3.12/site-packages/pandas/core/internals/managers.py:430\u001b[0m, in \u001b[0;36mBaseBlockManager.astype\u001b[0;34m(self, dtype, copy, errors)\u001b[0m\n\u001b[1;32m    427\u001b[0m \u001b[38;5;28;01melif\u001b[39;00m using_copy_on_write():\n\u001b[1;32m    428\u001b[0m     copy \u001b[38;5;241m=\u001b[39m \u001b[38;5;28;01mFalse\u001b[39;00m\n\u001b[0;32m--> 430\u001b[0m \u001b[38;5;28;01mreturn\u001b[39;00m \u001b[38;5;28mself\u001b[39m\u001b[38;5;241m.\u001b[39mapply(\n\u001b[1;32m    431\u001b[0m     \u001b[38;5;124m\"\u001b[39m\u001b[38;5;124mastype\u001b[39m\u001b[38;5;124m\"\u001b[39m,\n\u001b[1;32m    432\u001b[0m     dtype\u001b[38;5;241m=\u001b[39mdtype,\n\u001b[1;32m    433\u001b[0m     copy\u001b[38;5;241m=\u001b[39mcopy,\n\u001b[1;32m    434\u001b[0m     errors\u001b[38;5;241m=\u001b[39merrors,\n\u001b[1;32m    435\u001b[0m     using_cow\u001b[38;5;241m=\u001b[39musing_copy_on_write(),\n\u001b[1;32m    436\u001b[0m )\n",
      "File \u001b[0;32m/opt/anaconda3/lib/python3.12/site-packages/pandas/core/internals/managers.py:363\u001b[0m, in \u001b[0;36mBaseBlockManager.apply\u001b[0;34m(self, f, align_keys, **kwargs)\u001b[0m\n\u001b[1;32m    361\u001b[0m         applied \u001b[38;5;241m=\u001b[39m b\u001b[38;5;241m.\u001b[39mapply(f, \u001b[38;5;241m*\u001b[39m\u001b[38;5;241m*\u001b[39mkwargs)\n\u001b[1;32m    362\u001b[0m     \u001b[38;5;28;01melse\u001b[39;00m:\n\u001b[0;32m--> 363\u001b[0m         applied \u001b[38;5;241m=\u001b[39m \u001b[38;5;28mgetattr\u001b[39m(b, f)(\u001b[38;5;241m*\u001b[39m\u001b[38;5;241m*\u001b[39mkwargs)\n\u001b[1;32m    364\u001b[0m     result_blocks \u001b[38;5;241m=\u001b[39m extend_blocks(applied, result_blocks)\n\u001b[1;32m    366\u001b[0m out \u001b[38;5;241m=\u001b[39m \u001b[38;5;28mtype\u001b[39m(\u001b[38;5;28mself\u001b[39m)\u001b[38;5;241m.\u001b[39mfrom_blocks(result_blocks, \u001b[38;5;28mself\u001b[39m\u001b[38;5;241m.\u001b[39maxes)\n",
      "File \u001b[0;32m/opt/anaconda3/lib/python3.12/site-packages/pandas/core/internals/blocks.py:758\u001b[0m, in \u001b[0;36mBlock.astype\u001b[0;34m(self, dtype, copy, errors, using_cow, squeeze)\u001b[0m\n\u001b[1;32m    755\u001b[0m         \u001b[38;5;28;01mraise\u001b[39;00m \u001b[38;5;167;01mValueError\u001b[39;00m(\u001b[38;5;124m\"\u001b[39m\u001b[38;5;124mCan not squeeze with more than one column.\u001b[39m\u001b[38;5;124m\"\u001b[39m)\n\u001b[1;32m    756\u001b[0m     values \u001b[38;5;241m=\u001b[39m values[\u001b[38;5;241m0\u001b[39m, :]  \u001b[38;5;66;03m# type: ignore[call-overload]\u001b[39;00m\n\u001b[0;32m--> 758\u001b[0m new_values \u001b[38;5;241m=\u001b[39m astype_array_safe(values, dtype, copy\u001b[38;5;241m=\u001b[39mcopy, errors\u001b[38;5;241m=\u001b[39merrors)\n\u001b[1;32m    760\u001b[0m new_values \u001b[38;5;241m=\u001b[39m maybe_coerce_values(new_values)\n\u001b[1;32m    762\u001b[0m refs \u001b[38;5;241m=\u001b[39m \u001b[38;5;28;01mNone\u001b[39;00m\n",
      "File \u001b[0;32m/opt/anaconda3/lib/python3.12/site-packages/pandas/core/dtypes/astype.py:237\u001b[0m, in \u001b[0;36mastype_array_safe\u001b[0;34m(values, dtype, copy, errors)\u001b[0m\n\u001b[1;32m    234\u001b[0m     dtype \u001b[38;5;241m=\u001b[39m dtype\u001b[38;5;241m.\u001b[39mnumpy_dtype\n\u001b[1;32m    236\u001b[0m \u001b[38;5;28;01mtry\u001b[39;00m:\n\u001b[0;32m--> 237\u001b[0m     new_values \u001b[38;5;241m=\u001b[39m astype_array(values, dtype, copy\u001b[38;5;241m=\u001b[39mcopy)\n\u001b[1;32m    238\u001b[0m \u001b[38;5;28;01mexcept\u001b[39;00m (\u001b[38;5;167;01mValueError\u001b[39;00m, \u001b[38;5;167;01mTypeError\u001b[39;00m):\n\u001b[1;32m    239\u001b[0m     \u001b[38;5;66;03m# e.g. _astype_nansafe can fail on object-dtype of strings\u001b[39;00m\n\u001b[1;32m    240\u001b[0m     \u001b[38;5;66;03m#  trying to convert to float\u001b[39;00m\n\u001b[1;32m    241\u001b[0m     \u001b[38;5;28;01mif\u001b[39;00m errors \u001b[38;5;241m==\u001b[39m \u001b[38;5;124m\"\u001b[39m\u001b[38;5;124mignore\u001b[39m\u001b[38;5;124m\"\u001b[39m:\n",
      "File \u001b[0;32m/opt/anaconda3/lib/python3.12/site-packages/pandas/core/dtypes/astype.py:182\u001b[0m, in \u001b[0;36mastype_array\u001b[0;34m(values, dtype, copy)\u001b[0m\n\u001b[1;32m    179\u001b[0m     values \u001b[38;5;241m=\u001b[39m values\u001b[38;5;241m.\u001b[39mastype(dtype, copy\u001b[38;5;241m=\u001b[39mcopy)\n\u001b[1;32m    181\u001b[0m \u001b[38;5;28;01melse\u001b[39;00m:\n\u001b[0;32m--> 182\u001b[0m     values \u001b[38;5;241m=\u001b[39m _astype_nansafe(values, dtype, copy\u001b[38;5;241m=\u001b[39mcopy)\n\u001b[1;32m    184\u001b[0m \u001b[38;5;66;03m# in pandas we don't store numpy str dtypes, so convert to object\u001b[39;00m\n\u001b[1;32m    185\u001b[0m \u001b[38;5;28;01mif\u001b[39;00m \u001b[38;5;28misinstance\u001b[39m(dtype, np\u001b[38;5;241m.\u001b[39mdtype) \u001b[38;5;129;01mand\u001b[39;00m \u001b[38;5;28missubclass\u001b[39m(values\u001b[38;5;241m.\u001b[39mdtype\u001b[38;5;241m.\u001b[39mtype, \u001b[38;5;28mstr\u001b[39m):\n",
      "File \u001b[0;32m/opt/anaconda3/lib/python3.12/site-packages/pandas/core/dtypes/astype.py:101\u001b[0m, in \u001b[0;36m_astype_nansafe\u001b[0;34m(arr, dtype, copy, skipna)\u001b[0m\n\u001b[1;32m     96\u001b[0m     \u001b[38;5;28;01mreturn\u001b[39;00m lib\u001b[38;5;241m.\u001b[39mensure_string_array(\n\u001b[1;32m     97\u001b[0m         arr, skipna\u001b[38;5;241m=\u001b[39mskipna, convert_na_value\u001b[38;5;241m=\u001b[39m\u001b[38;5;28;01mFalse\u001b[39;00m\n\u001b[1;32m     98\u001b[0m     )\u001b[38;5;241m.\u001b[39mreshape(shape)\n\u001b[1;32m    100\u001b[0m \u001b[38;5;28;01melif\u001b[39;00m np\u001b[38;5;241m.\u001b[39missubdtype(arr\u001b[38;5;241m.\u001b[39mdtype, np\u001b[38;5;241m.\u001b[39mfloating) \u001b[38;5;129;01mand\u001b[39;00m dtype\u001b[38;5;241m.\u001b[39mkind \u001b[38;5;129;01min\u001b[39;00m \u001b[38;5;124m\"\u001b[39m\u001b[38;5;124miu\u001b[39m\u001b[38;5;124m\"\u001b[39m:\n\u001b[0;32m--> 101\u001b[0m     \u001b[38;5;28;01mreturn\u001b[39;00m _astype_float_to_int_nansafe(arr, dtype, copy)\n\u001b[1;32m    103\u001b[0m \u001b[38;5;28;01melif\u001b[39;00m arr\u001b[38;5;241m.\u001b[39mdtype \u001b[38;5;241m==\u001b[39m \u001b[38;5;28mobject\u001b[39m:\n\u001b[1;32m    104\u001b[0m     \u001b[38;5;66;03m# if we have a datetime/timedelta array of objects\u001b[39;00m\n\u001b[1;32m    105\u001b[0m     \u001b[38;5;66;03m# then coerce to datetime64[ns] and use DatetimeArray.astype\u001b[39;00m\n\u001b[1;32m    107\u001b[0m     \u001b[38;5;28;01mif\u001b[39;00m lib\u001b[38;5;241m.\u001b[39mis_np_dtype(dtype, \u001b[38;5;124m\"\u001b[39m\u001b[38;5;124mM\u001b[39m\u001b[38;5;124m\"\u001b[39m):\n",
      "File \u001b[0;32m/opt/anaconda3/lib/python3.12/site-packages/pandas/core/dtypes/astype.py:145\u001b[0m, in \u001b[0;36m_astype_float_to_int_nansafe\u001b[0;34m(values, dtype, copy)\u001b[0m\n\u001b[1;32m    141\u001b[0m \u001b[38;5;250m\u001b[39m\u001b[38;5;124;03m\"\"\"\u001b[39;00m\n\u001b[1;32m    142\u001b[0m \u001b[38;5;124;03mastype with a check preventing converting NaN to an meaningless integer value.\u001b[39;00m\n\u001b[1;32m    143\u001b[0m \u001b[38;5;124;03m\"\"\"\u001b[39;00m\n\u001b[1;32m    144\u001b[0m \u001b[38;5;28;01mif\u001b[39;00m \u001b[38;5;129;01mnot\u001b[39;00m np\u001b[38;5;241m.\u001b[39misfinite(values)\u001b[38;5;241m.\u001b[39mall():\n\u001b[0;32m--> 145\u001b[0m     \u001b[38;5;28;01mraise\u001b[39;00m IntCastingNaNError(\n\u001b[1;32m    146\u001b[0m         \u001b[38;5;124m\"\u001b[39m\u001b[38;5;124mCannot convert non-finite values (NA or inf) to integer\u001b[39m\u001b[38;5;124m\"\u001b[39m\n\u001b[1;32m    147\u001b[0m     )\n\u001b[1;32m    148\u001b[0m \u001b[38;5;28;01mif\u001b[39;00m dtype\u001b[38;5;241m.\u001b[39mkind \u001b[38;5;241m==\u001b[39m \u001b[38;5;124m\"\u001b[39m\u001b[38;5;124mu\u001b[39m\u001b[38;5;124m\"\u001b[39m:\n\u001b[1;32m    149\u001b[0m     \u001b[38;5;66;03m# GH#45151\u001b[39;00m\n\u001b[1;32m    150\u001b[0m     \u001b[38;5;28;01mif\u001b[39;00m \u001b[38;5;129;01mnot\u001b[39;00m (values \u001b[38;5;241m>\u001b[39m\u001b[38;5;241m=\u001b[39m \u001b[38;5;241m0\u001b[39m)\u001b[38;5;241m.\u001b[39mall():\n",
      "\u001b[0;31mIntCastingNaNError\u001b[0m: Cannot convert non-finite values (NA or inf) to integer"
     ]
    }
   ],
   "source": [
    "# for prices_bruker\n",
    "\n",
    "prices_bruker[\"Shares Outstanding\"] =  prices_bruker[\"Shares Outstanding\"].astype(int)\n",
    "prices_bruker[\"Date\"] = pd.to_datetime(prices_bruker.Date, format=\"%Y-%m-%d\")"
   ]
  },
  {
   "cell_type": "markdown",
   "metadata": {},
   "source": [
    "<a id='5'></a>\n",
    "## Step 5 - Load csv for ML preparation"
   ]
  },
  {
   "cell_type": "code",
   "execution_count": 64,
   "metadata": {},
   "outputs": [
    {
     "data": {
      "text/html": [
       "<div>\n",
       "<style scoped>\n",
       "    .dataframe tbody tr th:only-of-type {\n",
       "        vertical-align: middle;\n",
       "    }\n",
       "\n",
       "    .dataframe tbody tr th {\n",
       "        vertical-align: top;\n",
       "    }\n",
       "\n",
       "    .dataframe thead th {\n",
       "        text-align: right;\n",
       "    }\n",
       "</style>\n",
       "<table border=\"1\" class=\"dataframe\">\n",
       "  <thead>\n",
       "    <tr style=\"text-align: right;\">\n",
       "      <th></th>\n",
       "      <th>Ticker</th>\n",
       "      <th>SimFinId</th>\n",
       "      <th>Date</th>\n",
       "      <th>Open</th>\n",
       "      <th>High</th>\n",
       "      <th>Low</th>\n",
       "      <th>Close</th>\n",
       "      <th>Adj. Close</th>\n",
       "      <th>Volume</th>\n",
       "      <th>Dividend</th>\n",
       "      <th>Shares Outstanding</th>\n",
       "    </tr>\n",
       "  </thead>\n",
       "  <tbody>\n",
       "    <tr>\n",
       "      <th>812641</th>\n",
       "      <td>BRKR</td>\n",
       "      <td>1253240</td>\n",
       "      <td>2019-04-01</td>\n",
       "      <td>38.76</td>\n",
       "      <td>39.01</td>\n",
       "      <td>38.47</td>\n",
       "      <td>38.87</td>\n",
       "      <td>38.20</td>\n",
       "      <td>761845</td>\n",
       "      <td>0.0</td>\n",
       "      <td>156814676</td>\n",
       "    </tr>\n",
       "    <tr>\n",
       "      <th>812642</th>\n",
       "      <td>BRKR</td>\n",
       "      <td>1253240</td>\n",
       "      <td>2019-04-02</td>\n",
       "      <td>38.94</td>\n",
       "      <td>39.01</td>\n",
       "      <td>38.39</td>\n",
       "      <td>38.53</td>\n",
       "      <td>37.86</td>\n",
       "      <td>666801</td>\n",
       "      <td>0.0</td>\n",
       "      <td>156814676</td>\n",
       "    </tr>\n",
       "    <tr>\n",
       "      <th>812643</th>\n",
       "      <td>BRKR</td>\n",
       "      <td>1253240</td>\n",
       "      <td>2019-04-03</td>\n",
       "      <td>38.74</td>\n",
       "      <td>39.24</td>\n",
       "      <td>38.63</td>\n",
       "      <td>39.01</td>\n",
       "      <td>38.33</td>\n",
       "      <td>2647355</td>\n",
       "      <td>0.0</td>\n",
       "      <td>156814676</td>\n",
       "    </tr>\n",
       "    <tr>\n",
       "      <th>812644</th>\n",
       "      <td>BRKR</td>\n",
       "      <td>1253240</td>\n",
       "      <td>2019-04-04</td>\n",
       "      <td>38.95</td>\n",
       "      <td>39.01</td>\n",
       "      <td>37.82</td>\n",
       "      <td>38.32</td>\n",
       "      <td>37.66</td>\n",
       "      <td>503730</td>\n",
       "      <td>0.0</td>\n",
       "      <td>156814676</td>\n",
       "    </tr>\n",
       "    <tr>\n",
       "      <th>812645</th>\n",
       "      <td>BRKR</td>\n",
       "      <td>1253240</td>\n",
       "      <td>2019-04-05</td>\n",
       "      <td>38.41</td>\n",
       "      <td>39.23</td>\n",
       "      <td>38.30</td>\n",
       "      <td>38.41</td>\n",
       "      <td>37.74</td>\n",
       "      <td>509516</td>\n",
       "      <td>0.0</td>\n",
       "      <td>156814676</td>\n",
       "    </tr>\n",
       "  </tbody>\n",
       "</table>\n",
       "</div>"
      ],
      "text/plain": [
       "       Ticker  SimFinId       Date   Open   High    Low  Close  Adj. Close  \\\n",
       "812641   BRKR   1253240 2019-04-01  38.76  39.01  38.47  38.87       38.20   \n",
       "812642   BRKR   1253240 2019-04-02  38.94  39.01  38.39  38.53       37.86   \n",
       "812643   BRKR   1253240 2019-04-03  38.74  39.24  38.63  39.01       38.33   \n",
       "812644   BRKR   1253240 2019-04-04  38.95  39.01  37.82  38.32       37.66   \n",
       "812645   BRKR   1253240 2019-04-05  38.41  39.23  38.30  38.41       37.74   \n",
       "\n",
       "         Volume  Dividend  Shares Outstanding  \n",
       "812641   761845       0.0           156814676  \n",
       "812642   666801       0.0           156814676  \n",
       "812643  2647355       0.0           156814676  \n",
       "812644   503730       0.0           156814676  \n",
       "812645   509516       0.0           156814676  "
      ]
     },
     "execution_count": 64,
     "metadata": {},
     "output_type": "execute_result"
    }
   ],
   "source": [
    "prices_bruker.head()"
   ]
  },
  {
   "cell_type": "code",
   "execution_count": 65,
   "metadata": {},
   "outputs": [],
   "source": [
    "prices_bruker.to_csv(\"pricesbruker_output.csv\")"
   ]
  }
 ],
 "metadata": {
  "kernelspec": {
   "display_name": "base",
   "language": "python",
   "name": "python3"
  },
  "language_info": {
   "codemirror_mode": {
    "name": "ipython",
    "version": 3
   },
   "file_extension": ".py",
   "mimetype": "text/x-python",
   "name": "python",
   "nbconvert_exporter": "python",
   "pygments_lexer": "ipython3",
   "version": "3.12.2"
  }
 },
 "nbformat": 4,
 "nbformat_minor": 2
}
